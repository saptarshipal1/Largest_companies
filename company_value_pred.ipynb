{
 "cells": [
  {
   "cell_type": "code",
   "execution_count": 97,
   "metadata": {},
   "outputs": [],
   "source": [
    "import numpy as np\n",
    "import pandas as pd\n",
    "import openpyxl\n",
    "\n",
    "import matplotlib.pyplot as plt\n",
    "%matplotlib inline\n",
    "import seaborn as sns\n",
    "\n",
    "from pycaret.regression import *\n",
    "from sklearn.preprocessing import LabelEncoder\n",
    "from sklearn.model_selection import train_test_split,cross_val_score,GridSearchCV\n",
    "from sklearn.pipeline import make_pipeline\n",
    "from sklearn.preprocessing import StandardScaler\n",
    "from sklearn.linear_model import LinearRegression, Ridge, Lasso, Lars\n",
    "from sklearn.neighbors import KNeighborsRegressor\n",
    "from sklearn.neural_network import MLPRegressor\n",
    "from sklearn.tree import DecisionTreeRegressor\n",
    "from sklearn.ensemble import RandomForestRegressor, GradientBoostingRegressor\n"
   ]
  },
  {
   "cell_type": "code",
   "execution_count": 98,
   "metadata": {},
   "outputs": [
    {
     "data": {
      "text/html": [
       "<div>\n",
       "<style scoped>\n",
       "    .dataframe tbody tr th:only-of-type {\n",
       "        vertical-align: middle;\n",
       "    }\n",
       "\n",
       "    .dataframe tbody tr th {\n",
       "        vertical-align: top;\n",
       "    }\n",
       "\n",
       "    .dataframe thead th {\n",
       "        text-align: right;\n",
       "    }\n",
       "</style>\n",
       "<table border=\"1\" class=\"dataframe\">\n",
       "  <thead>\n",
       "    <tr style=\"text-align: right;\">\n",
       "      <th></th>\n",
       "      <th>Global Rank</th>\n",
       "      <th>Company</th>\n",
       "      <th>Sales ($billion)</th>\n",
       "      <th>Profits ($billion)</th>\n",
       "      <th>Assets ($billion)</th>\n",
       "      <th>Market Value ($billion)</th>\n",
       "      <th>Country</th>\n",
       "      <th>Continent</th>\n",
       "      <th>Latitude</th>\n",
       "      <th>Longitude</th>\n",
       "    </tr>\n",
       "  </thead>\n",
       "  <tbody>\n",
       "    <tr>\n",
       "      <th>0</th>\n",
       "      <td>1</td>\n",
       "      <td>ICBC</td>\n",
       "      <td>134.8</td>\n",
       "      <td>37.8</td>\n",
       "      <td>2813.5</td>\n",
       "      <td>237.3</td>\n",
       "      <td>China</td>\n",
       "      <td>Asia</td>\n",
       "      <td>35.86166</td>\n",
       "      <td>104.195397</td>\n",
       "    </tr>\n",
       "    <tr>\n",
       "      <th>1</th>\n",
       "      <td>2</td>\n",
       "      <td>China Construction Bank</td>\n",
       "      <td>113.1</td>\n",
       "      <td>30.6</td>\n",
       "      <td>2241.0</td>\n",
       "      <td>202.0</td>\n",
       "      <td>China</td>\n",
       "      <td>Asia</td>\n",
       "      <td>35.86166</td>\n",
       "      <td>104.195397</td>\n",
       "    </tr>\n",
       "    <tr>\n",
       "      <th>2</th>\n",
       "      <td>3</td>\n",
       "      <td>JPMorgan Chase</td>\n",
       "      <td>108.2</td>\n",
       "      <td>21.3</td>\n",
       "      <td>2359.1</td>\n",
       "      <td>191.4</td>\n",
       "      <td>USA</td>\n",
       "      <td>North America</td>\n",
       "      <td>37.09024</td>\n",
       "      <td>-95.712891</td>\n",
       "    </tr>\n",
       "    <tr>\n",
       "      <th>3</th>\n",
       "      <td>4</td>\n",
       "      <td>General Electric</td>\n",
       "      <td>147.4</td>\n",
       "      <td>13.6</td>\n",
       "      <td>685.3</td>\n",
       "      <td>243.7</td>\n",
       "      <td>USA</td>\n",
       "      <td>North America</td>\n",
       "      <td>37.09024</td>\n",
       "      <td>-95.712891</td>\n",
       "    </tr>\n",
       "    <tr>\n",
       "      <th>4</th>\n",
       "      <td>5</td>\n",
       "      <td>Exxon Mobil</td>\n",
       "      <td>420.7</td>\n",
       "      <td>44.9</td>\n",
       "      <td>333.8</td>\n",
       "      <td>400.4</td>\n",
       "      <td>USA</td>\n",
       "      <td>North America</td>\n",
       "      <td>37.09024</td>\n",
       "      <td>-95.712891</td>\n",
       "    </tr>\n",
       "  </tbody>\n",
       "</table>\n",
       "</div>"
      ],
      "text/plain": [
       "   Global Rank                  Company  Sales ($billion)  Profits ($billion)  \\\n",
       "0            1                     ICBC             134.8                37.8   \n",
       "1            2  China Construction Bank             113.1                30.6   \n",
       "2            3           JPMorgan Chase             108.2                21.3   \n",
       "3            4         General Electric             147.4                13.6   \n",
       "4            5              Exxon Mobil             420.7                44.9   \n",
       "\n",
       "   Assets ($billion)  Market Value ($billion) Country      Continent  \\\n",
       "0             2813.5                    237.3   China           Asia   \n",
       "1             2241.0                    202.0   China           Asia   \n",
       "2             2359.1                    191.4     USA  North America   \n",
       "3              685.3                    243.7     USA  North America   \n",
       "4              333.8                    400.4     USA  North America   \n",
       "\n",
       "   Latitude   Longitude  \n",
       "0  35.86166  104.195397  \n",
       "1  35.86166  104.195397  \n",
       "2  37.09024  -95.712891  \n",
       "3  37.09024  -95.712891  \n",
       "4  37.09024  -95.712891  "
      ]
     },
     "execution_count": 98,
     "metadata": {},
     "output_type": "execute_result"
    }
   ],
   "source": [
    "df = pd.read_excel('Largest Companies in the World.xlsx')\n",
    "df.head()"
   ]
  },
  {
   "cell_type": "code",
   "execution_count": 99,
   "metadata": {},
   "outputs": [
    {
     "data": {
      "text/plain": [
       "(1924, 10)"
      ]
     },
     "execution_count": 99,
     "metadata": {},
     "output_type": "execute_result"
    }
   ],
   "source": [
    "df.shape"
   ]
  },
  {
   "cell_type": "code",
   "execution_count": 100,
   "metadata": {},
   "outputs": [
    {
     "name": "stdout",
     "output_type": "stream",
     "text": [
      "<class 'pandas.core.frame.DataFrame'>\n",
      "RangeIndex: 1924 entries, 0 to 1923\n",
      "Data columns (total 10 columns):\n",
      " #   Column                   Non-Null Count  Dtype  \n",
      "---  ------                   --------------  -----  \n",
      " 0   Global Rank              1924 non-null   int64  \n",
      " 1   Company                  1924 non-null   object \n",
      " 2   Sales ($billion)         1924 non-null   float64\n",
      " 3   Profits ($billion)       1924 non-null   float64\n",
      " 4   Assets ($billion)        1924 non-null   float64\n",
      " 5   Market Value ($billion)  1924 non-null   float64\n",
      " 6   Country                  1924 non-null   object \n",
      " 7   Continent                1924 non-null   object \n",
      " 8   Latitude                 1924 non-null   float64\n",
      " 9   Longitude                1924 non-null   float64\n",
      "dtypes: float64(6), int64(1), object(3)\n",
      "memory usage: 150.4+ KB\n"
     ]
    }
   ],
   "source": [
    "df.info()"
   ]
  },
  {
   "cell_type": "code",
   "execution_count": 101,
   "metadata": {},
   "outputs": [],
   "source": [
    "df1 = df.copy()"
   ]
  },
  {
   "cell_type": "code",
   "execution_count": 102,
   "metadata": {},
   "outputs": [
    {
     "data": {
      "text/plain": [
       "Global Rank                0\n",
       "Company                    0\n",
       "Sales ($billion)           0\n",
       "Profits ($billion)         0\n",
       "Assets ($billion)          0\n",
       "Market Value ($billion)    0\n",
       "Country                    0\n",
       "Continent                  0\n",
       "Latitude                   0\n",
       "Longitude                  0\n",
       "dtype: int64"
      ]
     },
     "execution_count": 102,
     "metadata": {},
     "output_type": "execute_result"
    }
   ],
   "source": [
    "df1.isnull().sum()"
   ]
  },
  {
   "cell_type": "code",
   "execution_count": 103,
   "metadata": {},
   "outputs": [
    {
     "data": {
      "text/plain": [
       "Index(['rank', 'Company', 'Sales_bill', 'profits_bill', 'assets_bill',\n",
       "       'market_value_bill', 'Country', 'Continent', 'Latitude', 'Longitude'],\n",
       "      dtype='object')"
      ]
     },
     "execution_count": 103,
     "metadata": {},
     "output_type": "execute_result"
    }
   ],
   "source": [
    "df1.rename(columns = {\"Global Rank\":\"rank\",\"Sales ($billion)\":\"Sales_bill\",\"Profits ($billion)\":\"profits_bill\",\"Assets ($billion)\":\"assets_bill\",\"Market Value ($billion)\":\"market_value_bill\"},inplace =True)\n",
    "df1.columns"
   ]
  },
  {
   "cell_type": "code",
   "execution_count": 104,
   "metadata": {},
   "outputs": [
    {
     "data": {
      "text/plain": [
       "rank                 0\n",
       "Company              0\n",
       "Sales_bill           0\n",
       "profits_bill         0\n",
       "assets_bill          0\n",
       "market_value_bill    0\n",
       "Country              0\n",
       "Continent            0\n",
       "Latitude             0\n",
       "Longitude            0\n",
       "dtype: int64"
      ]
     },
     "execution_count": 104,
     "metadata": {},
     "output_type": "execute_result"
    }
   ],
   "source": [
    "df1.isna().sum()"
   ]
  },
  {
   "cell_type": "code",
   "execution_count": 105,
   "metadata": {},
   "outputs": [],
   "source": [
    "df2 = df.copy()"
   ]
  },
  {
   "cell_type": "code",
   "execution_count": 106,
   "metadata": {},
   "outputs": [
    {
     "data": {
      "text/html": [
       "<style type=\"text/css\">\n",
       "#T_a3e62_row9_col1 {\n",
       "  background-color: lightgreen;\n",
       "}\n",
       "</style>\n",
       "<table id=\"T_a3e62\">\n",
       "  <thead>\n",
       "    <tr>\n",
       "      <th class=\"blank level0\" >&nbsp;</th>\n",
       "      <th id=\"T_a3e62_level0_col0\" class=\"col_heading level0 col0\" >Description</th>\n",
       "      <th id=\"T_a3e62_level0_col1\" class=\"col_heading level0 col1\" >Value</th>\n",
       "    </tr>\n",
       "  </thead>\n",
       "  <tbody>\n",
       "    <tr>\n",
       "      <th id=\"T_a3e62_level0_row0\" class=\"row_heading level0 row0\" >0</th>\n",
       "      <td id=\"T_a3e62_row0_col0\" class=\"data row0 col0\" >Session id</td>\n",
       "      <td id=\"T_a3e62_row0_col1\" class=\"data row0 col1\" >123</td>\n",
       "    </tr>\n",
       "    <tr>\n",
       "      <th id=\"T_a3e62_level0_row1\" class=\"row_heading level0 row1\" >1</th>\n",
       "      <td id=\"T_a3e62_row1_col0\" class=\"data row1 col0\" >Target</td>\n",
       "      <td id=\"T_a3e62_row1_col1\" class=\"data row1 col1\" >Market Value ($billion)_y</td>\n",
       "    </tr>\n",
       "    <tr>\n",
       "      <th id=\"T_a3e62_level0_row2\" class=\"row_heading level0 row2\" >2</th>\n",
       "      <td id=\"T_a3e62_row2_col0\" class=\"data row2 col0\" >Target type</td>\n",
       "      <td id=\"T_a3e62_row2_col1\" class=\"data row2 col1\" >Regression</td>\n",
       "    </tr>\n",
       "    <tr>\n",
       "      <th id=\"T_a3e62_level0_row3\" class=\"row_heading level0 row3\" >3</th>\n",
       "      <td id=\"T_a3e62_row3_col0\" class=\"data row3 col0\" >Original data shape</td>\n",
       "      <td id=\"T_a3e62_row3_col1\" class=\"data row3 col1\" >(1924, 11)</td>\n",
       "    </tr>\n",
       "    <tr>\n",
       "      <th id=\"T_a3e62_level0_row4\" class=\"row_heading level0 row4\" >4</th>\n",
       "      <td id=\"T_a3e62_row4_col0\" class=\"data row4 col0\" >Transformed data shape</td>\n",
       "      <td id=\"T_a3e62_row4_col1\" class=\"data row4 col1\" >(1924, 16)</td>\n",
       "    </tr>\n",
       "    <tr>\n",
       "      <th id=\"T_a3e62_level0_row5\" class=\"row_heading level0 row5\" >5</th>\n",
       "      <td id=\"T_a3e62_row5_col0\" class=\"data row5 col0\" >Transformed train set shape</td>\n",
       "      <td id=\"T_a3e62_row5_col1\" class=\"data row5 col1\" >(1346, 16)</td>\n",
       "    </tr>\n",
       "    <tr>\n",
       "      <th id=\"T_a3e62_level0_row6\" class=\"row_heading level0 row6\" >6</th>\n",
       "      <td id=\"T_a3e62_row6_col0\" class=\"data row6 col0\" >Transformed test set shape</td>\n",
       "      <td id=\"T_a3e62_row6_col1\" class=\"data row6 col1\" >(578, 16)</td>\n",
       "    </tr>\n",
       "    <tr>\n",
       "      <th id=\"T_a3e62_level0_row7\" class=\"row_heading level0 row7\" >7</th>\n",
       "      <td id=\"T_a3e62_row7_col0\" class=\"data row7 col0\" >Numeric features</td>\n",
       "      <td id=\"T_a3e62_row7_col1\" class=\"data row7 col1\" >7</td>\n",
       "    </tr>\n",
       "    <tr>\n",
       "      <th id=\"T_a3e62_level0_row8\" class=\"row_heading level0 row8\" >8</th>\n",
       "      <td id=\"T_a3e62_row8_col0\" class=\"data row8 col0\" >Categorical features</td>\n",
       "      <td id=\"T_a3e62_row8_col1\" class=\"data row8 col1\" >3</td>\n",
       "    </tr>\n",
       "    <tr>\n",
       "      <th id=\"T_a3e62_level0_row9\" class=\"row_heading level0 row9\" >9</th>\n",
       "      <td id=\"T_a3e62_row9_col0\" class=\"data row9 col0\" >Preprocess</td>\n",
       "      <td id=\"T_a3e62_row9_col1\" class=\"data row9 col1\" >True</td>\n",
       "    </tr>\n",
       "    <tr>\n",
       "      <th id=\"T_a3e62_level0_row10\" class=\"row_heading level0 row10\" >10</th>\n",
       "      <td id=\"T_a3e62_row10_col0\" class=\"data row10 col0\" >Imputation type</td>\n",
       "      <td id=\"T_a3e62_row10_col1\" class=\"data row10 col1\" >simple</td>\n",
       "    </tr>\n",
       "    <tr>\n",
       "      <th id=\"T_a3e62_level0_row11\" class=\"row_heading level0 row11\" >11</th>\n",
       "      <td id=\"T_a3e62_row11_col0\" class=\"data row11 col0\" >Numeric imputation</td>\n",
       "      <td id=\"T_a3e62_row11_col1\" class=\"data row11 col1\" >mean</td>\n",
       "    </tr>\n",
       "    <tr>\n",
       "      <th id=\"T_a3e62_level0_row12\" class=\"row_heading level0 row12\" >12</th>\n",
       "      <td id=\"T_a3e62_row12_col0\" class=\"data row12 col0\" >Categorical imputation</td>\n",
       "      <td id=\"T_a3e62_row12_col1\" class=\"data row12 col1\" >mode</td>\n",
       "    </tr>\n",
       "    <tr>\n",
       "      <th id=\"T_a3e62_level0_row13\" class=\"row_heading level0 row13\" >13</th>\n",
       "      <td id=\"T_a3e62_row13_col0\" class=\"data row13 col0\" >Maximum one-hot encoding</td>\n",
       "      <td id=\"T_a3e62_row13_col1\" class=\"data row13 col1\" >25</td>\n",
       "    </tr>\n",
       "    <tr>\n",
       "      <th id=\"T_a3e62_level0_row14\" class=\"row_heading level0 row14\" >14</th>\n",
       "      <td id=\"T_a3e62_row14_col0\" class=\"data row14 col0\" >Encoding method</td>\n",
       "      <td id=\"T_a3e62_row14_col1\" class=\"data row14 col1\" >None</td>\n",
       "    </tr>\n",
       "    <tr>\n",
       "      <th id=\"T_a3e62_level0_row15\" class=\"row_heading level0 row15\" >15</th>\n",
       "      <td id=\"T_a3e62_row15_col0\" class=\"data row15 col0\" >Fold Generator</td>\n",
       "      <td id=\"T_a3e62_row15_col1\" class=\"data row15 col1\" >KFold</td>\n",
       "    </tr>\n",
       "    <tr>\n",
       "      <th id=\"T_a3e62_level0_row16\" class=\"row_heading level0 row16\" >16</th>\n",
       "      <td id=\"T_a3e62_row16_col0\" class=\"data row16 col0\" >Fold Number</td>\n",
       "      <td id=\"T_a3e62_row16_col1\" class=\"data row16 col1\" >10</td>\n",
       "    </tr>\n",
       "    <tr>\n",
       "      <th id=\"T_a3e62_level0_row17\" class=\"row_heading level0 row17\" >17</th>\n",
       "      <td id=\"T_a3e62_row17_col0\" class=\"data row17 col0\" >CPU Jobs</td>\n",
       "      <td id=\"T_a3e62_row17_col1\" class=\"data row17 col1\" >-1</td>\n",
       "    </tr>\n",
       "    <tr>\n",
       "      <th id=\"T_a3e62_level0_row18\" class=\"row_heading level0 row18\" >18</th>\n",
       "      <td id=\"T_a3e62_row18_col0\" class=\"data row18 col0\" >Use GPU</td>\n",
       "      <td id=\"T_a3e62_row18_col1\" class=\"data row18 col1\" >False</td>\n",
       "    </tr>\n",
       "    <tr>\n",
       "      <th id=\"T_a3e62_level0_row19\" class=\"row_heading level0 row19\" >19</th>\n",
       "      <td id=\"T_a3e62_row19_col0\" class=\"data row19 col0\" >Log Experiment</td>\n",
       "      <td id=\"T_a3e62_row19_col1\" class=\"data row19 col1\" >False</td>\n",
       "    </tr>\n",
       "    <tr>\n",
       "      <th id=\"T_a3e62_level0_row20\" class=\"row_heading level0 row20\" >20</th>\n",
       "      <td id=\"T_a3e62_row20_col0\" class=\"data row20 col0\" >Experiment Name</td>\n",
       "      <td id=\"T_a3e62_row20_col1\" class=\"data row20 col1\" >reg-default-name</td>\n",
       "    </tr>\n",
       "    <tr>\n",
       "      <th id=\"T_a3e62_level0_row21\" class=\"row_heading level0 row21\" >21</th>\n",
       "      <td id=\"T_a3e62_row21_col0\" class=\"data row21 col0\" >USI</td>\n",
       "      <td id=\"T_a3e62_row21_col1\" class=\"data row21 col1\" >9e35</td>\n",
       "    </tr>\n",
       "  </tbody>\n",
       "</table>\n"
      ],
      "text/plain": [
       "<pandas.io.formats.style.Styler at 0x2805403d0>"
      ]
     },
     "metadata": {},
     "output_type": "display_data"
    }
   ],
   "source": [
    "s = setup(df2, target = df2['Market Value ($billion)'], session_id = 123)"
   ]
  },
  {
   "cell_type": "code",
   "execution_count": 107,
   "metadata": {},
   "outputs": [
    {
     "data": {
      "text/html": [],
      "text/plain": [
       "<IPython.core.display.HTML object>"
      ]
     },
     "metadata": {},
     "output_type": "display_data"
    },
    {
     "data": {
      "text/html": [
       "<style type=\"text/css\">\n",
       "#T_63491 th {\n",
       "  text-align: left;\n",
       "}\n",
       "#T_63491_row0_col0, #T_63491_row0_col1, #T_63491_row0_col2, #T_63491_row0_col3, #T_63491_row0_col5, #T_63491_row0_col6, #T_63491_row1_col0, #T_63491_row2_col0, #T_63491_row2_col1, #T_63491_row2_col2, #T_63491_row2_col3, #T_63491_row2_col5, #T_63491_row2_col6, #T_63491_row3_col0, #T_63491_row3_col1, #T_63491_row3_col2, #T_63491_row3_col3, #T_63491_row3_col5, #T_63491_row3_col6, #T_63491_row4_col0, #T_63491_row4_col1, #T_63491_row4_col2, #T_63491_row4_col3, #T_63491_row4_col4, #T_63491_row4_col5, #T_63491_row4_col6, #T_63491_row5_col0, #T_63491_row5_col1, #T_63491_row5_col2, #T_63491_row5_col3, #T_63491_row5_col4, #T_63491_row5_col5, #T_63491_row5_col6, #T_63491_row6_col0, #T_63491_row6_col1, #T_63491_row6_col2, #T_63491_row6_col3, #T_63491_row6_col4, #T_63491_row6_col5, #T_63491_row6_col6, #T_63491_row7_col0, #T_63491_row7_col1, #T_63491_row7_col2, #T_63491_row7_col3, #T_63491_row7_col4, #T_63491_row7_col5, #T_63491_row7_col6, #T_63491_row8_col0, #T_63491_row8_col1, #T_63491_row8_col2, #T_63491_row8_col3, #T_63491_row8_col4, #T_63491_row8_col5, #T_63491_row8_col6, #T_63491_row9_col0, #T_63491_row9_col1, #T_63491_row9_col2, #T_63491_row9_col3, #T_63491_row9_col4, #T_63491_row9_col5, #T_63491_row9_col6, #T_63491_row10_col0, #T_63491_row10_col1, #T_63491_row10_col2, #T_63491_row10_col3, #T_63491_row10_col4, #T_63491_row10_col5, #T_63491_row10_col6, #T_63491_row11_col0, #T_63491_row11_col1, #T_63491_row11_col2, #T_63491_row11_col3, #T_63491_row11_col4, #T_63491_row11_col5, #T_63491_row11_col6, #T_63491_row12_col0, #T_63491_row12_col1, #T_63491_row12_col2, #T_63491_row12_col3, #T_63491_row12_col4, #T_63491_row12_col5, #T_63491_row12_col6, #T_63491_row13_col0, #T_63491_row13_col1, #T_63491_row13_col2, #T_63491_row13_col3, #T_63491_row13_col4, #T_63491_row13_col5, #T_63491_row13_col6, #T_63491_row14_col0, #T_63491_row14_col1, #T_63491_row14_col2, #T_63491_row14_col3, #T_63491_row14_col4, #T_63491_row14_col5, #T_63491_row14_col6, #T_63491_row15_col0, #T_63491_row15_col1, #T_63491_row15_col2, #T_63491_row15_col3, #T_63491_row15_col4, #T_63491_row15_col5, #T_63491_row15_col6, #T_63491_row16_col0, #T_63491_row16_col1, #T_63491_row16_col2, #T_63491_row16_col3, #T_63491_row16_col4, #T_63491_row16_col5, #T_63491_row16_col6, #T_63491_row17_col0, #T_63491_row17_col1, #T_63491_row17_col2, #T_63491_row17_col3, #T_63491_row17_col4, #T_63491_row17_col5, #T_63491_row17_col6, #T_63491_row18_col0, #T_63491_row18_col1, #T_63491_row18_col2, #T_63491_row18_col3, #T_63491_row18_col4, #T_63491_row18_col5, #T_63491_row18_col6, #T_63491_row19_col0, #T_63491_row19_col1, #T_63491_row19_col2, #T_63491_row19_col3, #T_63491_row19_col4, #T_63491_row19_col5, #T_63491_row19_col6 {\n",
       "  text-align: left;\n",
       "}\n",
       "#T_63491_row0_col4, #T_63491_row1_col1, #T_63491_row1_col2, #T_63491_row1_col3, #T_63491_row1_col4, #T_63491_row1_col5, #T_63491_row1_col6, #T_63491_row2_col4, #T_63491_row3_col4 {\n",
       "  text-align: left;\n",
       "  background-color: yellow;\n",
       "}\n",
       "#T_63491_row0_col7, #T_63491_row1_col7, #T_63491_row3_col7, #T_63491_row4_col7, #T_63491_row5_col7, #T_63491_row6_col7, #T_63491_row7_col7, #T_63491_row8_col7, #T_63491_row9_col7, #T_63491_row10_col7, #T_63491_row11_col7, #T_63491_row12_col7, #T_63491_row13_col7, #T_63491_row14_col7, #T_63491_row15_col7, #T_63491_row16_col7, #T_63491_row17_col7, #T_63491_row18_col7, #T_63491_row19_col7 {\n",
       "  text-align: left;\n",
       "  background-color: lightgrey;\n",
       "}\n",
       "#T_63491_row2_col7 {\n",
       "  text-align: left;\n",
       "  background-color: yellow;\n",
       "  background-color: lightgrey;\n",
       "}\n",
       "</style>\n",
       "<table id=\"T_63491\">\n",
       "  <thead>\n",
       "    <tr>\n",
       "      <th class=\"blank level0\" >&nbsp;</th>\n",
       "      <th id=\"T_63491_level0_col0\" class=\"col_heading level0 col0\" >Model</th>\n",
       "      <th id=\"T_63491_level0_col1\" class=\"col_heading level0 col1\" >MAE</th>\n",
       "      <th id=\"T_63491_level0_col2\" class=\"col_heading level0 col2\" >MSE</th>\n",
       "      <th id=\"T_63491_level0_col3\" class=\"col_heading level0 col3\" >RMSE</th>\n",
       "      <th id=\"T_63491_level0_col4\" class=\"col_heading level0 col4\" >R2</th>\n",
       "      <th id=\"T_63491_level0_col5\" class=\"col_heading level0 col5\" >RMSLE</th>\n",
       "      <th id=\"T_63491_level0_col6\" class=\"col_heading level0 col6\" >MAPE</th>\n",
       "      <th id=\"T_63491_level0_col7\" class=\"col_heading level0 col7\" >TT (Sec)</th>\n",
       "    </tr>\n",
       "  </thead>\n",
       "  <tbody>\n",
       "    <tr>\n",
       "      <th id=\"T_63491_level0_row0\" class=\"row_heading level0 row0\" >lasso</th>\n",
       "      <td id=\"T_63491_row0_col0\" class=\"data row0 col0\" >Lasso Regression</td>\n",
       "      <td id=\"T_63491_row0_col1\" class=\"data row0 col1\" >0.0190</td>\n",
       "      <td id=\"T_63491_row0_col2\" class=\"data row0 col2\" >0.0016</td>\n",
       "      <td id=\"T_63491_row0_col3\" class=\"data row0 col3\" >0.0374</td>\n",
       "      <td id=\"T_63491_row0_col4\" class=\"data row0 col4\" >1.0000</td>\n",
       "      <td id=\"T_63491_row0_col5\" class=\"data row0 col5\" >0.0026</td>\n",
       "      <td id=\"T_63491_row0_col6\" class=\"data row0 col6\" >0.0025</td>\n",
       "      <td id=\"T_63491_row0_col7\" class=\"data row0 col7\" >0.0280</td>\n",
       "    </tr>\n",
       "    <tr>\n",
       "      <th id=\"T_63491_level0_row1\" class=\"row_heading level0 row1\" >lar</th>\n",
       "      <td id=\"T_63491_row1_col0\" class=\"data row1 col0\" >Least Angle Regression</td>\n",
       "      <td id=\"T_63491_row1_col1\" class=\"data row1 col1\" >0.0000</td>\n",
       "      <td id=\"T_63491_row1_col2\" class=\"data row1 col2\" >0.0000</td>\n",
       "      <td id=\"T_63491_row1_col3\" class=\"data row1 col3\" >0.0000</td>\n",
       "      <td id=\"T_63491_row1_col4\" class=\"data row1 col4\" >1.0000</td>\n",
       "      <td id=\"T_63491_row1_col5\" class=\"data row1 col5\" >0.0000</td>\n",
       "      <td id=\"T_63491_row1_col6\" class=\"data row1 col6\" >0.0000</td>\n",
       "      <td id=\"T_63491_row1_col7\" class=\"data row1 col7\" >0.0240</td>\n",
       "    </tr>\n",
       "    <tr>\n",
       "      <th id=\"T_63491_level0_row2\" class=\"row_heading level0 row2\" >llar</th>\n",
       "      <td id=\"T_63491_row2_col0\" class=\"data row2 col0\" >Lasso Least Angle Regression</td>\n",
       "      <td id=\"T_63491_row2_col1\" class=\"data row2 col1\" >0.0190</td>\n",
       "      <td id=\"T_63491_row2_col2\" class=\"data row2 col2\" >0.0016</td>\n",
       "      <td id=\"T_63491_row2_col3\" class=\"data row2 col3\" >0.0375</td>\n",
       "      <td id=\"T_63491_row2_col4\" class=\"data row2 col4\" >1.0000</td>\n",
       "      <td id=\"T_63491_row2_col5\" class=\"data row2 col5\" >0.0026</td>\n",
       "      <td id=\"T_63491_row2_col6\" class=\"data row2 col6\" >0.0026</td>\n",
       "      <td id=\"T_63491_row2_col7\" class=\"data row2 col7\" >0.0220</td>\n",
       "    </tr>\n",
       "    <tr>\n",
       "      <th id=\"T_63491_level0_row3\" class=\"row_heading level0 row3\" >en</th>\n",
       "      <td id=\"T_63491_row3_col0\" class=\"data row3 col0\" >Elastic Net</td>\n",
       "      <td id=\"T_63491_row3_col1\" class=\"data row3 col1\" >0.0206</td>\n",
       "      <td id=\"T_63491_row3_col2\" class=\"data row3 col2\" >0.0018</td>\n",
       "      <td id=\"T_63491_row3_col3\" class=\"data row3 col3\" >0.0396</td>\n",
       "      <td id=\"T_63491_row3_col4\" class=\"data row3 col4\" >1.0000</td>\n",
       "      <td id=\"T_63491_row3_col5\" class=\"data row3 col5\" >0.0030</td>\n",
       "      <td id=\"T_63491_row3_col6\" class=\"data row3 col6\" >0.0028</td>\n",
       "      <td id=\"T_63491_row3_col7\" class=\"data row3 col7\" >0.0240</td>\n",
       "    </tr>\n",
       "    <tr>\n",
       "      <th id=\"T_63491_level0_row4\" class=\"row_heading level0 row4\" >huber</th>\n",
       "      <td id=\"T_63491_row4_col0\" class=\"data row4 col0\" >Huber Regressor</td>\n",
       "      <td id=\"T_63491_row4_col1\" class=\"data row4 col1\" >0.1941</td>\n",
       "      <td id=\"T_63491_row4_col2\" class=\"data row4 col2\" >0.1077</td>\n",
       "      <td id=\"T_63491_row4_col3\" class=\"data row4 col3\" >0.3093</td>\n",
       "      <td id=\"T_63491_row4_col4\" class=\"data row4 col4\" >0.9999</td>\n",
       "      <td id=\"T_63491_row4_col5\" class=\"data row4 col5\" >0.0399</td>\n",
       "      <td id=\"T_63491_row4_col6\" class=\"data row4 col6\" >0.0353</td>\n",
       "      <td id=\"T_63491_row4_col7\" class=\"data row4 col7\" >0.0270</td>\n",
       "    </tr>\n",
       "    <tr>\n",
       "      <th id=\"T_63491_level0_row5\" class=\"row_heading level0 row5\" >par</th>\n",
       "      <td id=\"T_63491_row5_col0\" class=\"data row5 col0\" >Passive Aggressive Regressor</td>\n",
       "      <td id=\"T_63491_row5_col1\" class=\"data row5 col1\" >0.2922</td>\n",
       "      <td id=\"T_63491_row5_col2\" class=\"data row5 col2\" >0.1770</td>\n",
       "      <td id=\"T_63491_row5_col3\" class=\"data row5 col3\" >0.3789</td>\n",
       "      <td id=\"T_63491_row5_col4\" class=\"data row5 col4\" >0.9998</td>\n",
       "      <td id=\"T_63491_row5_col5\" class=\"data row5 col5\" >0.0661</td>\n",
       "      <td id=\"T_63491_row5_col6\" class=\"data row5 col6\" >0.0746</td>\n",
       "      <td id=\"T_63491_row5_col7\" class=\"data row5 col7\" >0.0240</td>\n",
       "    </tr>\n",
       "    <tr>\n",
       "      <th id=\"T_63491_level0_row6\" class=\"row_heading level0 row6\" >ridge</th>\n",
       "      <td id=\"T_63491_row6_col0\" class=\"data row6 col0\" >Ridge Regression</td>\n",
       "      <td id=\"T_63491_row6_col1\" class=\"data row6 col1\" >0.2765</td>\n",
       "      <td id=\"T_63491_row6_col2\" class=\"data row6 col2\" >0.2729</td>\n",
       "      <td id=\"T_63491_row6_col3\" class=\"data row6 col3\" >0.5085</td>\n",
       "      <td id=\"T_63491_row6_col4\" class=\"data row6 col4\" >0.9997</td>\n",
       "      <td id=\"T_63491_row6_col5\" class=\"data row6 col5\" >0.0501</td>\n",
       "      <td id=\"T_63491_row6_col6\" class=\"data row6 col6\" >0.0568</td>\n",
       "      <td id=\"T_63491_row6_col7\" class=\"data row6 col7\" >0.0230</td>\n",
       "    </tr>\n",
       "    <tr>\n",
       "      <th id=\"T_63491_level0_row7\" class=\"row_heading level0 row7\" >br</th>\n",
       "      <td id=\"T_63491_row7_col0\" class=\"data row7 col0\" >Bayesian Ridge</td>\n",
       "      <td id=\"T_63491_row7_col1\" class=\"data row7 col1\" >0.2526</td>\n",
       "      <td id=\"T_63491_row7_col2\" class=\"data row7 col2\" >0.2493</td>\n",
       "      <td id=\"T_63491_row7_col3\" class=\"data row7 col3\" >0.4609</td>\n",
       "      <td id=\"T_63491_row7_col4\" class=\"data row7 col4\" >0.9997</td>\n",
       "      <td id=\"T_63491_row7_col5\" class=\"data row7 col5\" >0.0460</td>\n",
       "      <td id=\"T_63491_row7_col6\" class=\"data row7 col6\" >0.0529</td>\n",
       "      <td id=\"T_63491_row7_col7\" class=\"data row7 col7\" >0.0240</td>\n",
       "    </tr>\n",
       "    <tr>\n",
       "      <th id=\"T_63491_level0_row8\" class=\"row_heading level0 row8\" >lr</th>\n",
       "      <td id=\"T_63491_row8_col0\" class=\"data row8 col0\" >Linear Regression</td>\n",
       "      <td id=\"T_63491_row8_col1\" class=\"data row8 col1\" >0.2764</td>\n",
       "      <td id=\"T_63491_row8_col2\" class=\"data row8 col2\" >0.2729</td>\n",
       "      <td id=\"T_63491_row8_col3\" class=\"data row8 col3\" >0.5085</td>\n",
       "      <td id=\"T_63491_row8_col4\" class=\"data row8 col4\" >0.9997</td>\n",
       "      <td id=\"T_63491_row8_col5\" class=\"data row8 col5\" >0.0501</td>\n",
       "      <td id=\"T_63491_row8_col6\" class=\"data row8 col6\" >0.0568</td>\n",
       "      <td id=\"T_63491_row8_col7\" class=\"data row8 col7\" >0.4920</td>\n",
       "    </tr>\n",
       "    <tr>\n",
       "      <th id=\"T_63491_level0_row9\" class=\"row_heading level0 row9\" >knn</th>\n",
       "      <td id=\"T_63491_row9_col0\" class=\"data row9 col0\" >K Neighbors Regressor</td>\n",
       "      <td id=\"T_63491_row9_col1\" class=\"data row9 col1\" >6.1939</td>\n",
       "      <td id=\"T_63491_row9_col2\" class=\"data row9 col2\" >207.3462</td>\n",
       "      <td id=\"T_63491_row9_col3\" class=\"data row9 col3\" >13.8131</td>\n",
       "      <td id=\"T_63491_row9_col4\" class=\"data row9 col4\" >0.7783</td>\n",
       "      <td id=\"T_63491_row9_col5\" class=\"data row9 col5\" >0.4651</td>\n",
       "      <td id=\"T_63491_row9_col6\" class=\"data row9 col6\" >0.6982</td>\n",
       "      <td id=\"T_63491_row9_col7\" class=\"data row9 col7\" >0.0250</td>\n",
       "    </tr>\n",
       "    <tr>\n",
       "      <th id=\"T_63491_level0_row10\" class=\"row_heading level0 row10\" >dt</th>\n",
       "      <td id=\"T_63491_row10_col0\" class=\"data row10 col0\" >Decision Tree Regressor</td>\n",
       "      <td id=\"T_63491_row10_col1\" class=\"data row10 col1\" >5.5104</td>\n",
       "      <td id=\"T_63491_row10_col2\" class=\"data row10 col2\" >264.6372</td>\n",
       "      <td id=\"T_63491_row10_col3\" class=\"data row10 col3\" >14.5332</td>\n",
       "      <td id=\"T_63491_row10_col4\" class=\"data row10 col4\" >0.7725</td>\n",
       "      <td id=\"T_63491_row10_col5\" class=\"data row10 col5\" >0.3613</td>\n",
       "      <td id=\"T_63491_row10_col6\" class=\"data row10 col6\" >0.3848</td>\n",
       "      <td id=\"T_63491_row10_col7\" class=\"data row10 col7\" >0.0240</td>\n",
       "    </tr>\n",
       "    <tr>\n",
       "      <th id=\"T_63491_level0_row11\" class=\"row_heading level0 row11\" >gbr</th>\n",
       "      <td id=\"T_63491_row11_col0\" class=\"data row11 col0\" >Gradient Boosting Regressor</td>\n",
       "      <td id=\"T_63491_row11_col1\" class=\"data row11 col1\" >7.0328</td>\n",
       "      <td id=\"T_63491_row11_col2\" class=\"data row11 col2\" >255.5259</td>\n",
       "      <td id=\"T_63491_row11_col3\" class=\"data row11 col3\" >14.9559</td>\n",
       "      <td id=\"T_63491_row11_col4\" class=\"data row11 col4\" >0.7661</td>\n",
       "      <td id=\"T_63491_row11_col5\" class=\"data row11 col5\" >0.6323</td>\n",
       "      <td id=\"T_63491_row11_col6\" class=\"data row11 col6\" >1.4176</td>\n",
       "      <td id=\"T_63491_row11_col7\" class=\"data row11 col7\" >0.0280</td>\n",
       "    </tr>\n",
       "    <tr>\n",
       "      <th id=\"T_63491_level0_row12\" class=\"row_heading level0 row12\" >et</th>\n",
       "      <td id=\"T_63491_row12_col0\" class=\"data row12 col0\" >Extra Trees Regressor</td>\n",
       "      <td id=\"T_63491_row12_col1\" class=\"data row12 col1\" >8.7544</td>\n",
       "      <td id=\"T_63491_row12_col2\" class=\"data row12 col2\" >290.0148</td>\n",
       "      <td id=\"T_63491_row12_col3\" class=\"data row12 col3\" >16.1220</td>\n",
       "      <td id=\"T_63491_row12_col4\" class=\"data row12 col4\" >0.7255</td>\n",
       "      <td id=\"T_63491_row12_col5\" class=\"data row12 col5\" >0.7561</td>\n",
       "      <td id=\"T_63491_row12_col6\" class=\"data row12 col6\" >1.8944</td>\n",
       "      <td id=\"T_63491_row12_col7\" class=\"data row12 col7\" >0.0370</td>\n",
       "    </tr>\n",
       "    <tr>\n",
       "      <th id=\"T_63491_level0_row13\" class=\"row_heading level0 row13\" >rf</th>\n",
       "      <td id=\"T_63491_row13_col0\" class=\"data row13 col0\" >Random Forest Regressor</td>\n",
       "      <td id=\"T_63491_row13_col1\" class=\"data row13 col1\" >8.6159</td>\n",
       "      <td id=\"T_63491_row13_col2\" class=\"data row13 col2\" >351.7623</td>\n",
       "      <td id=\"T_63491_row13_col3\" class=\"data row13 col3\" >17.8480</td>\n",
       "      <td id=\"T_63491_row13_col4\" class=\"data row13 col4\" >0.6640</td>\n",
       "      <td id=\"T_63491_row13_col5\" class=\"data row13 col5\" >0.7197</td>\n",
       "      <td id=\"T_63491_row13_col6\" class=\"data row13 col6\" >1.7450</td>\n",
       "      <td id=\"T_63491_row13_col7\" class=\"data row13 col7\" >0.0370</td>\n",
       "    </tr>\n",
       "    <tr>\n",
       "      <th id=\"T_63491_level0_row14\" class=\"row_heading level0 row14\" >ada</th>\n",
       "      <td id=\"T_63491_row14_col0\" class=\"data row14 col0\" >AdaBoost Regressor</td>\n",
       "      <td id=\"T_63491_row14_col1\" class=\"data row14 col1\" >7.4770</td>\n",
       "      <td id=\"T_63491_row14_col2\" class=\"data row14 col2\" >389.0499</td>\n",
       "      <td id=\"T_63491_row14_col3\" class=\"data row14 col3\" >18.0674</td>\n",
       "      <td id=\"T_63491_row14_col4\" class=\"data row14 col4\" >0.6572</td>\n",
       "      <td id=\"T_63491_row14_col5\" class=\"data row14 col5\" >0.6295</td>\n",
       "      <td id=\"T_63491_row14_col6\" class=\"data row14 col6\" >1.3359</td>\n",
       "      <td id=\"T_63491_row14_col7\" class=\"data row14 col7\" >0.0310</td>\n",
       "    </tr>\n",
       "    <tr>\n",
       "      <th id=\"T_63491_level0_row15\" class=\"row_heading level0 row15\" >catboost</th>\n",
       "      <td id=\"T_63491_row15_col0\" class=\"data row15 col0\" >CatBoost Regressor</td>\n",
       "      <td id=\"T_63491_row15_col1\" class=\"data row15 col1\" >9.0443</td>\n",
       "      <td id=\"T_63491_row15_col2\" class=\"data row15 col2\" >434.4436</td>\n",
       "      <td id=\"T_63491_row15_col3\" class=\"data row15 col3\" >19.8476</td>\n",
       "      <td id=\"T_63491_row15_col4\" class=\"data row15 col4\" >0.5844</td>\n",
       "      <td id=\"T_63491_row15_col5\" class=\"data row15 col5\" >0.7089</td>\n",
       "      <td id=\"T_63491_row15_col6\" class=\"data row15 col6\" >1.6193</td>\n",
       "      <td id=\"T_63491_row15_col7\" class=\"data row15 col7\" >0.0720</td>\n",
       "    </tr>\n",
       "    <tr>\n",
       "      <th id=\"T_63491_level0_row16\" class=\"row_heading level0 row16\" >omp</th>\n",
       "      <td id=\"T_63491_row16_col0\" class=\"data row16 col0\" >Orthogonal Matching Pursuit</td>\n",
       "      <td id=\"T_63491_row16_col1\" class=\"data row16 col1\" >13.8748</td>\n",
       "      <td id=\"T_63491_row16_col2\" class=\"data row16 col2\" >688.5684</td>\n",
       "      <td id=\"T_63491_row16_col3\" class=\"data row16 col3\" >25.3970</td>\n",
       "      <td id=\"T_63491_row16_col4\" class=\"data row16 col4\" >0.3092</td>\n",
       "      <td id=\"T_63491_row16_col5\" class=\"data row16 col5\" >0.8328</td>\n",
       "      <td id=\"T_63491_row16_col6\" class=\"data row16 col6\" >1.9941</td>\n",
       "      <td id=\"T_63491_row16_col7\" class=\"data row16 col7\" >0.0230</td>\n",
       "    </tr>\n",
       "    <tr>\n",
       "      <th id=\"T_63491_level0_row17\" class=\"row_heading level0 row17\" >lightgbm</th>\n",
       "      <td id=\"T_63491_row17_col0\" class=\"data row17 col0\" >Light Gradient Boosting Machine</td>\n",
       "      <td id=\"T_63491_row17_col1\" class=\"data row17 col1\" >15.7625</td>\n",
       "      <td id=\"T_63491_row17_col2\" class=\"data row17 col2\" >761.6939</td>\n",
       "      <td id=\"T_63491_row17_col3\" class=\"data row17 col3\" >26.8490</td>\n",
       "      <td id=\"T_63491_row17_col4\" class=\"data row17 col4\" >0.2204</td>\n",
       "      <td id=\"T_63491_row17_col5\" class=\"data row17 col5\" >1.0952</td>\n",
       "      <td id=\"T_63491_row17_col6\" class=\"data row17 col6\" >3.4196</td>\n",
       "      <td id=\"T_63491_row17_col7\" class=\"data row17 col7\" >0.0260</td>\n",
       "    </tr>\n",
       "    <tr>\n",
       "      <th id=\"T_63491_level0_row18\" class=\"row_heading level0 row18\" >xgboost</th>\n",
       "      <td id=\"T_63491_row18_col0\" class=\"data row18 col0\" >Extreme Gradient Boosting</td>\n",
       "      <td id=\"T_63491_row18_col1\" class=\"data row18 col1\" >16.5745</td>\n",
       "      <td id=\"T_63491_row18_col2\" class=\"data row18 col2\" >984.1786</td>\n",
       "      <td id=\"T_63491_row18_col3\" class=\"data row18 col3\" >30.5315</td>\n",
       "      <td id=\"T_63491_row18_col4\" class=\"data row18 col4\" >-0.0057</td>\n",
       "      <td id=\"T_63491_row18_col5\" class=\"data row18 col5\" >1.1251</td>\n",
       "      <td id=\"T_63491_row18_col6\" class=\"data row18 col6\" >3.3937</td>\n",
       "      <td id=\"T_63491_row18_col7\" class=\"data row18 col7\" >0.0280</td>\n",
       "    </tr>\n",
       "    <tr>\n",
       "      <th id=\"T_63491_level0_row19\" class=\"row_heading level0 row19\" >dummy</th>\n",
       "      <td id=\"T_63491_row19_col0\" class=\"data row19 col0\" >Dummy Regressor</td>\n",
       "      <td id=\"T_63491_row19_col1\" class=\"data row19 col1\" >16.6066</td>\n",
       "      <td id=\"T_63491_row19_col2\" class=\"data row19 col2\" >984.7009</td>\n",
       "      <td id=\"T_63491_row19_col3\" class=\"data row19 col3\" >30.5442</td>\n",
       "      <td id=\"T_63491_row19_col4\" class=\"data row19 col4\" >-0.0070</td>\n",
       "      <td id=\"T_63491_row19_col5\" class=\"data row19 col5\" >1.1269</td>\n",
       "      <td id=\"T_63491_row19_col6\" class=\"data row19 col6\" >3.4103</td>\n",
       "      <td id=\"T_63491_row19_col7\" class=\"data row19 col7\" >0.0240</td>\n",
       "    </tr>\n",
       "  </tbody>\n",
       "</table>\n"
      ],
      "text/plain": [
       "<pandas.io.formats.style.Styler at 0x2804c8520>"
      ]
     },
     "metadata": {},
     "output_type": "display_data"
    },
    {
     "data": {
      "text/html": [],
      "text/plain": [
       "<IPython.core.display.HTML object>"
      ]
     },
     "metadata": {},
     "output_type": "display_data"
    }
   ],
   "source": [
    "# compare baseline models\n",
    "best = compare_models()"
   ]
  },
  {
   "cell_type": "code",
   "execution_count": 108,
   "metadata": {},
   "outputs": [
    {
     "data": {
      "text/html": [],
      "text/plain": [
       "<IPython.core.display.HTML object>"
      ]
     },
     "metadata": {},
     "output_type": "display_data"
    },
    {
     "data": {
      "image/png": "[encoded data removed]",
      "text/plain": [
       "<Figure size 800x550 with 2 Axes>"
      ]
     },
     "metadata": {},
     "output_type": "display_data"
    }
   ],
   "source": [
    "# plot residuals\n",
    "plot_model(best, plot = 'residuals')"
   ]
  },
  {
   "cell_type": "code",
   "execution_count": 109,
   "metadata": {},
   "outputs": [
    {
     "data": {
      "text/html": [],
      "text/plain": [
       "<IPython.core.display.HTML object>"
      ]
     },
     "metadata": {},
     "output_type": "display_data"
    },
    {
     "data": {
      "image/png": "[encoded data removed]",
      "text/plain": [
       "<Figure size 800x550 with 1 Axes>"
      ]
     },
     "metadata": {},
     "output_type": "display_data"
    }
   ],
   "source": [
    "# plot error\n",
    "plot_model(best, plot = 'error')"
   ]
  },
  {
   "cell_type": "markdown",
   "metadata": {},
   "source": [
    "# Prediction"
   ]
  },
  {
   "cell_type": "code",
   "execution_count": 110,
   "metadata": {},
   "outputs": [
    {
     "data": {
      "text/html": [
       "<style type=\"text/css\">\n",
       "</style>\n",
       "<table id=\"T_277e5\">\n",
       "  <thead>\n",
       "    <tr>\n",
       "      <th class=\"blank level0\" >&nbsp;</th>\n",
       "      <th id=\"T_277e5_level0_col0\" class=\"col_heading level0 col0\" >Model</th>\n",
       "      <th id=\"T_277e5_level0_col1\" class=\"col_heading level0 col1\" >MAE</th>\n",
       "      <th id=\"T_277e5_level0_col2\" class=\"col_heading level0 col2\" >MSE</th>\n",
       "      <th id=\"T_277e5_level0_col3\" class=\"col_heading level0 col3\" >RMSE</th>\n",
       "      <th id=\"T_277e5_level0_col4\" class=\"col_heading level0 col4\" >R2</th>\n",
       "      <th id=\"T_277e5_level0_col5\" class=\"col_heading level0 col5\" >RMSLE</th>\n",
       "      <th id=\"T_277e5_level0_col6\" class=\"col_heading level0 col6\" >MAPE</th>\n",
       "    </tr>\n",
       "  </thead>\n",
       "  <tbody>\n",
       "    <tr>\n",
       "      <th id=\"T_277e5_level0_row0\" class=\"row_heading level0 row0\" >0</th>\n",
       "      <td id=\"T_277e5_row0_col0\" class=\"data row0 col0\" >Lasso Regression</td>\n",
       "      <td id=\"T_277e5_row0_col1\" class=\"data row0 col1\" >0.0204</td>\n",
       "      <td id=\"T_277e5_row0_col2\" class=\"data row0 col2\" >0.0019</td>\n",
       "      <td id=\"T_277e5_row0_col3\" class=\"data row0 col3\" >0.0441</td>\n",
       "      <td id=\"T_277e5_row0_col4\" class=\"data row0 col4\" >1.0000</td>\n",
       "      <td id=\"T_277e5_row0_col5\" class=\"data row0 col5\" >0.0028</td>\n",
       "      <td id=\"T_277e5_row0_col6\" class=\"data row0 col6\" >0.0021</td>\n",
       "    </tr>\n",
       "  </tbody>\n",
       "</table>\n"
      ],
      "text/plain": [
       "<pandas.io.formats.style.Styler at 0x280584430>"
      ]
     },
     "metadata": {},
     "output_type": "display_data"
    }
   ],
   "source": [
    "# predict on test set\n",
    "holdout_pred = predict_model(best)"
   ]
  },
  {
   "cell_type": "code",
   "execution_count": 111,
   "metadata": {},
   "outputs": [
    {
     "data": {
      "text/html": [
       "<div>\n",
       "<style scoped>\n",
       "    .dataframe tbody tr th:only-of-type {\n",
       "        vertical-align: middle;\n",
       "    }\n",
       "\n",
       "    .dataframe tbody tr th {\n",
       "        vertical-align: top;\n",
       "    }\n",
       "\n",
       "    .dataframe thead th {\n",
       "        text-align: right;\n",
       "    }\n",
       "</style>\n",
       "<table border=\"1\" class=\"dataframe\">\n",
       "  <thead>\n",
       "    <tr style=\"text-align: right;\">\n",
       "      <th></th>\n",
       "      <th>Global Rank</th>\n",
       "      <th>Company</th>\n",
       "      <th>Sales ($billion)</th>\n",
       "      <th>Profits ($billion)</th>\n",
       "      <th>Assets ($billion)</th>\n",
       "      <th>Market Value ($billion)_x</th>\n",
       "      <th>Country</th>\n",
       "      <th>Continent</th>\n",
       "      <th>Latitude</th>\n",
       "      <th>Longitude</th>\n",
       "      <th>Market Value ($billion)_y</th>\n",
       "      <th>prediction_label</th>\n",
       "    </tr>\n",
       "  </thead>\n",
       "  <tbody>\n",
       "    <tr>\n",
       "      <th>1058</th>\n",
       "      <td>1099</td>\n",
       "      <td>Intuit</td>\n",
       "      <td>4.200000</td>\n",
       "      <td>0.8</td>\n",
       "      <td>5.100000</td>\n",
       "      <td>19.400000</td>\n",
       "      <td>USA</td>\n",
       "      <td>North America</td>\n",
       "      <td>37.090240</td>\n",
       "      <td>-95.712891</td>\n",
       "      <td>19.400000</td>\n",
       "      <td>19.393616</td>\n",
       "    </tr>\n",
       "    <tr>\n",
       "      <th>437</th>\n",
       "      <td>457</td>\n",
       "      <td>Praxair</td>\n",
       "      <td>11.200000</td>\n",
       "      <td>1.7</td>\n",
       "      <td>18.100000</td>\n",
       "      <td>33.599998</td>\n",
       "      <td>USA</td>\n",
       "      <td>North America</td>\n",
       "      <td>37.090240</td>\n",
       "      <td>-95.712891</td>\n",
       "      <td>33.599998</td>\n",
       "      <td>33.596871</td>\n",
       "    </tr>\n",
       "    <tr>\n",
       "      <th>1149</th>\n",
       "      <td>1191</td>\n",
       "      <td>Greentown China Holdings</td>\n",
       "      <td>5.600000</td>\n",
       "      <td>0.8</td>\n",
       "      <td>17.299999</td>\n",
       "      <td>3.200000</td>\n",
       "      <td>China</td>\n",
       "      <td>Asia</td>\n",
       "      <td>35.861660</td>\n",
       "      <td>104.195396</td>\n",
       "      <td>3.200000</td>\n",
       "      <td>3.214441</td>\n",
       "    </tr>\n",
       "    <tr>\n",
       "      <th>546</th>\n",
       "      <td>567</td>\n",
       "      <td>Quanta Computer</td>\n",
       "      <td>34.400002</td>\n",
       "      <td>0.8</td>\n",
       "      <td>24.600000</td>\n",
       "      <td>8.500000</td>\n",
       "      <td>Taiwan</td>\n",
       "      <td>Asia</td>\n",
       "      <td>23.697809</td>\n",
       "      <td>120.960518</td>\n",
       "      <td>8.500000</td>\n",
       "      <td>8.530010</td>\n",
       "    </tr>\n",
       "    <tr>\n",
       "      <th>657</th>\n",
       "      <td>682</td>\n",
       "      <td>NKSJ Holdings</td>\n",
       "      <td>30.900000</td>\n",
       "      <td>-1.1</td>\n",
       "      <td>105.199997</td>\n",
       "      <td>9.400000</td>\n",
       "      <td>Japan</td>\n",
       "      <td>Asia</td>\n",
       "      <td>36.204823</td>\n",
       "      <td>138.252930</td>\n",
       "      <td>9.400000</td>\n",
       "      <td>9.426600</td>\n",
       "    </tr>\n",
       "  </tbody>\n",
       "</table>\n",
       "</div>"
      ],
      "text/plain": [
       "      Global Rank                   Company  Sales ($billion)  \\\n",
       "1058         1099                    Intuit          4.200000   \n",
       "437           457                   Praxair         11.200000   \n",
       "1149         1191  Greentown China Holdings          5.600000   \n",
       "546           567           Quanta Computer         34.400002   \n",
       "657           682             NKSJ Holdings         30.900000   \n",
       "\n",
       "      Profits ($billion)  Assets ($billion)  Market Value ($billion)_x  \\\n",
       "1058                 0.8           5.100000                  19.400000   \n",
       "437                  1.7          18.100000                  33.599998   \n",
       "1149                 0.8          17.299999                   3.200000   \n",
       "546                  0.8          24.600000                   8.500000   \n",
       "657                 -1.1         105.199997                   9.400000   \n",
       "\n",
       "     Country      Continent   Latitude   Longitude  Market Value ($billion)_y  \\\n",
       "1058     USA  North America  37.090240  -95.712891                  19.400000   \n",
       "437      USA  North America  37.090240  -95.712891                  33.599998   \n",
       "1149   China           Asia  35.861660  104.195396                   3.200000   \n",
       "546   Taiwan           Asia  23.697809  120.960518                   8.500000   \n",
       "657    Japan           Asia  36.204823  138.252930                   9.400000   \n",
       "\n",
       "      prediction_label  \n",
       "1058         19.393616  \n",
       "437          33.596871  \n",
       "1149          3.214441  \n",
       "546           8.530010  \n",
       "657           9.426600  "
      ]
     },
     "execution_count": 111,
     "metadata": {},
     "output_type": "execute_result"
    }
   ],
   "source": [
    "# show predictions df2\n",
    "holdout_pred.head()"
   ]
  },
  {
   "cell_type": "markdown",
   "metadata": {},
   "source": [
    "Hyperparameter Tuning of best model from pycaret module"
   ]
  },
  {
   "cell_type": "code",
   "execution_count": 112,
   "metadata": {},
   "outputs": [
    {
     "data": {
      "text/html": [],
      "text/plain": [
       "<IPython.core.display.HTML object>"
      ]
     },
     "metadata": {},
     "output_type": "display_data"
    },
    {
     "data": {
      "text/html": [
       "<style type=\"text/css\">\n",
       "#T_e84ad_row10_col0, #T_e84ad_row10_col1, #T_e84ad_row10_col2, #T_e84ad_row10_col3, #T_e84ad_row10_col4, #T_e84ad_row10_col5 {\n",
       "  background: yellow;\n",
       "}\n",
       "</style>\n",
       "<table id=\"T_e84ad\">\n",
       "  <thead>\n",
       "    <tr>\n",
       "      <th class=\"blank level0\" >&nbsp;</th>\n",
       "      <th id=\"T_e84ad_level0_col0\" class=\"col_heading level0 col0\" >MAE</th>\n",
       "      <th id=\"T_e84ad_level0_col1\" class=\"col_heading level0 col1\" >MSE</th>\n",
       "      <th id=\"T_e84ad_level0_col2\" class=\"col_heading level0 col2\" >RMSE</th>\n",
       "      <th id=\"T_e84ad_level0_col3\" class=\"col_heading level0 col3\" >R2</th>\n",
       "      <th id=\"T_e84ad_level0_col4\" class=\"col_heading level0 col4\" >RMSLE</th>\n",
       "      <th id=\"T_e84ad_level0_col5\" class=\"col_heading level0 col5\" >MAPE</th>\n",
       "    </tr>\n",
       "    <tr>\n",
       "      <th class=\"index_name level0\" >Fold</th>\n",
       "      <th class=\"blank col0\" >&nbsp;</th>\n",
       "      <th class=\"blank col1\" >&nbsp;</th>\n",
       "      <th class=\"blank col2\" >&nbsp;</th>\n",
       "      <th class=\"blank col3\" >&nbsp;</th>\n",
       "      <th class=\"blank col4\" >&nbsp;</th>\n",
       "      <th class=\"blank col5\" >&nbsp;</th>\n",
       "    </tr>\n",
       "  </thead>\n",
       "  <tbody>\n",
       "    <tr>\n",
       "      <th id=\"T_e84ad_level0_row0\" class=\"row_heading level0 row0\" >0</th>\n",
       "      <td id=\"T_e84ad_row0_col0\" class=\"data row0 col0\" >0.0208</td>\n",
       "      <td id=\"T_e84ad_row0_col1\" class=\"data row0 col1\" >0.0018</td>\n",
       "      <td id=\"T_e84ad_row0_col2\" class=\"data row0 col2\" >0.0419</td>\n",
       "      <td id=\"T_e84ad_row0_col3\" class=\"data row0 col3\" >1.0000</td>\n",
       "      <td id=\"T_e84ad_row0_col4\" class=\"data row0 col4\" >0.0020</td>\n",
       "      <td id=\"T_e84ad_row0_col5\" class=\"data row0 col5\" >0.0017</td>\n",
       "    </tr>\n",
       "    <tr>\n",
       "      <th id=\"T_e84ad_level0_row1\" class=\"row_heading level0 row1\" >1</th>\n",
       "      <td id=\"T_e84ad_row1_col0\" class=\"data row1 col0\" >0.0201</td>\n",
       "      <td id=\"T_e84ad_row1_col1\" class=\"data row1 col1\" >0.0011</td>\n",
       "      <td id=\"T_e84ad_row1_col2\" class=\"data row1 col2\" >0.0336</td>\n",
       "      <td id=\"T_e84ad_row1_col3\" class=\"data row1 col3\" >1.0000</td>\n",
       "      <td id=\"T_e84ad_row1_col4\" class=\"data row1 col4\" >0.0022</td>\n",
       "      <td id=\"T_e84ad_row1_col5\" class=\"data row1 col5\" >0.0023</td>\n",
       "    </tr>\n",
       "    <tr>\n",
       "      <th id=\"T_e84ad_level0_row2\" class=\"row_heading level0 row2\" >2</th>\n",
       "      <td id=\"T_e84ad_row2_col0\" class=\"data row2 col0\" >0.0144</td>\n",
       "      <td id=\"T_e84ad_row2_col1\" class=\"data row2 col1\" >0.0005</td>\n",
       "      <td id=\"T_e84ad_row2_col2\" class=\"data row2 col2\" >0.0227</td>\n",
       "      <td id=\"T_e84ad_row2_col3\" class=\"data row2 col3\" >1.0000</td>\n",
       "      <td id=\"T_e84ad_row2_col4\" class=\"data row2 col4\" >0.0020</td>\n",
       "      <td id=\"T_e84ad_row2_col5\" class=\"data row2 col5\" >0.0021</td>\n",
       "    </tr>\n",
       "    <tr>\n",
       "      <th id=\"T_e84ad_level0_row3\" class=\"row_heading level0 row3\" >3</th>\n",
       "      <td id=\"T_e84ad_row3_col0\" class=\"data row3 col0\" >0.0296</td>\n",
       "      <td id=\"T_e84ad_row3_col1\" class=\"data row3 col1\" >0.0055</td>\n",
       "      <td id=\"T_e84ad_row3_col2\" class=\"data row3 col2\" >0.0743</td>\n",
       "      <td id=\"T_e84ad_row3_col3\" class=\"data row3 col3\" >1.0000</td>\n",
       "      <td id=\"T_e84ad_row3_col4\" class=\"data row3 col4\" >0.0023</td>\n",
       "      <td id=\"T_e84ad_row3_col5\" class=\"data row3 col5\" >0.0023</td>\n",
       "    </tr>\n",
       "    <tr>\n",
       "      <th id=\"T_e84ad_level0_row4\" class=\"row_heading level0 row4\" >4</th>\n",
       "      <td id=\"T_e84ad_row4_col0\" class=\"data row4 col0\" >0.0150</td>\n",
       "      <td id=\"T_e84ad_row4_col1\" class=\"data row4 col1\" >0.0006</td>\n",
       "      <td id=\"T_e84ad_row4_col2\" class=\"data row4 col2\" >0.0244</td>\n",
       "      <td id=\"T_e84ad_row4_col3\" class=\"data row4 col3\" >1.0000</td>\n",
       "      <td id=\"T_e84ad_row4_col4\" class=\"data row4 col4\" >0.0021</td>\n",
       "      <td id=\"T_e84ad_row4_col5\" class=\"data row4 col5\" >0.0021</td>\n",
       "    </tr>\n",
       "    <tr>\n",
       "      <th id=\"T_e84ad_level0_row5\" class=\"row_heading level0 row5\" >5</th>\n",
       "      <td id=\"T_e84ad_row5_col0\" class=\"data row5 col0\" >0.0170</td>\n",
       "      <td id=\"T_e84ad_row5_col1\" class=\"data row5 col1\" >0.0010</td>\n",
       "      <td id=\"T_e84ad_row5_col2\" class=\"data row5 col2\" >0.0321</td>\n",
       "      <td id=\"T_e84ad_row5_col3\" class=\"data row5 col3\" >1.0000</td>\n",
       "      <td id=\"T_e84ad_row5_col4\" class=\"data row5 col4\" >0.0045</td>\n",
       "      <td id=\"T_e84ad_row5_col5\" class=\"data row5 col5\" >0.0026</td>\n",
       "    </tr>\n",
       "    <tr>\n",
       "      <th id=\"T_e84ad_level0_row6\" class=\"row_heading level0 row6\" >6</th>\n",
       "      <td id=\"T_e84ad_row6_col0\" class=\"data row6 col0\" >0.0172</td>\n",
       "      <td id=\"T_e84ad_row6_col1\" class=\"data row6 col1\" >0.0011</td>\n",
       "      <td id=\"T_e84ad_row6_col2\" class=\"data row6 col2\" >0.0325</td>\n",
       "      <td id=\"T_e84ad_row6_col3\" class=\"data row6 col3\" >1.0000</td>\n",
       "      <td id=\"T_e84ad_row6_col4\" class=\"data row6 col4\" >0.0042</td>\n",
       "      <td id=\"T_e84ad_row6_col5\" class=\"data row6 col5\" >0.0063</td>\n",
       "    </tr>\n",
       "    <tr>\n",
       "      <th id=\"T_e84ad_level0_row7\" class=\"row_heading level0 row7\" >7</th>\n",
       "      <td id=\"T_e84ad_row7_col0\" class=\"data row7 col0\" >0.0183</td>\n",
       "      <td id=\"T_e84ad_row7_col1\" class=\"data row7 col1\" >0.0012</td>\n",
       "      <td id=\"T_e84ad_row7_col2\" class=\"data row7 col2\" >0.0351</td>\n",
       "      <td id=\"T_e84ad_row7_col3\" class=\"data row7 col3\" >1.0000</td>\n",
       "      <td id=\"T_e84ad_row7_col4\" class=\"data row7 col4\" >0.0025</td>\n",
       "      <td id=\"T_e84ad_row7_col5\" class=\"data row7 col5\" >0.0021</td>\n",
       "    </tr>\n",
       "    <tr>\n",
       "      <th id=\"T_e84ad_level0_row8\" class=\"row_heading level0 row8\" >8</th>\n",
       "      <td id=\"T_e84ad_row8_col0\" class=\"data row8 col0\" >0.0175</td>\n",
       "      <td id=\"T_e84ad_row8_col1\" class=\"data row8 col1\" >0.0012</td>\n",
       "      <td id=\"T_e84ad_row8_col2\" class=\"data row8 col2\" >0.0341</td>\n",
       "      <td id=\"T_e84ad_row8_col3\" class=\"data row8 col3\" >1.0000</td>\n",
       "      <td id=\"T_e84ad_row8_col4\" class=\"data row8 col4\" >0.0020</td>\n",
       "      <td id=\"T_e84ad_row8_col5\" class=\"data row8 col5\" >0.0020</td>\n",
       "    </tr>\n",
       "    <tr>\n",
       "      <th id=\"T_e84ad_level0_row9\" class=\"row_heading level0 row9\" >9</th>\n",
       "      <td id=\"T_e84ad_row9_col0\" class=\"data row9 col0\" >0.0201</td>\n",
       "      <td id=\"T_e84ad_row9_col1\" class=\"data row9 col1\" >0.0019</td>\n",
       "      <td id=\"T_e84ad_row9_col2\" class=\"data row9 col2\" >0.0436</td>\n",
       "      <td id=\"T_e84ad_row9_col3\" class=\"data row9 col3\" >1.0000</td>\n",
       "      <td id=\"T_e84ad_row9_col4\" class=\"data row9 col4\" >0.0020</td>\n",
       "      <td id=\"T_e84ad_row9_col5\" class=\"data row9 col5\" >0.0020</td>\n",
       "    </tr>\n",
       "    <tr>\n",
       "      <th id=\"T_e84ad_level0_row10\" class=\"row_heading level0 row10\" >Mean</th>\n",
       "      <td id=\"T_e84ad_row10_col0\" class=\"data row10 col0\" >0.0190</td>\n",
       "      <td id=\"T_e84ad_row10_col1\" class=\"data row10 col1\" >0.0016</td>\n",
       "      <td id=\"T_e84ad_row10_col2\" class=\"data row10 col2\" >0.0374</td>\n",
       "      <td id=\"T_e84ad_row10_col3\" class=\"data row10 col3\" >1.0000</td>\n",
       "      <td id=\"T_e84ad_row10_col4\" class=\"data row10 col4\" >0.0026</td>\n",
       "      <td id=\"T_e84ad_row10_col5\" class=\"data row10 col5\" >0.0025</td>\n",
       "    </tr>\n",
       "    <tr>\n",
       "      <th id=\"T_e84ad_level0_row11\" class=\"row_heading level0 row11\" >Std</th>\n",
       "      <td id=\"T_e84ad_row11_col0\" class=\"data row11 col0\" >0.0041</td>\n",
       "      <td id=\"T_e84ad_row11_col1\" class=\"data row11 col1\" >0.0014</td>\n",
       "      <td id=\"T_e84ad_row11_col2\" class=\"data row11 col2\" >0.0138</td>\n",
       "      <td id=\"T_e84ad_row11_col3\" class=\"data row11 col3\" >0.0000</td>\n",
       "      <td id=\"T_e84ad_row11_col4\" class=\"data row11 col4\" >0.0009</td>\n",
       "      <td id=\"T_e84ad_row11_col5\" class=\"data row11 col5\" >0.0013</td>\n",
       "    </tr>\n",
       "  </tbody>\n",
       "</table>\n"
      ],
      "text/plain": [
       "<pandas.io.formats.style.Styler at 0x282a57a30>"
      ]
     },
     "metadata": {},
     "output_type": "display_data"
    },
    {
     "data": {
      "text/html": [],
      "text/plain": [
       "<IPython.core.display.HTML object>"
      ]
     },
     "metadata": {},
     "output_type": "display_data"
    }
   ],
   "source": [
    "lasso = create_model('lasso')"
   ]
  },
  {
   "cell_type": "code",
   "execution_count": 113,
   "metadata": {},
   "outputs": [
    {
     "data": {
      "text/html": [],
      "text/plain": [
       "<IPython.core.display.HTML object>"
      ]
     },
     "metadata": {},
     "output_type": "display_data"
    },
    {
     "data": {
      "text/html": [
       "<style type=\"text/css\">\n",
       "#T_4068b_row10_col0, #T_4068b_row10_col1, #T_4068b_row10_col2, #T_4068b_row10_col3, #T_4068b_row10_col4, #T_4068b_row10_col5 {\n",
       "  background: yellow;\n",
       "}\n",
       "</style>\n",
       "<table id=\"T_4068b\">\n",
       "  <thead>\n",
       "    <tr>\n",
       "      <th class=\"blank level0\" >&nbsp;</th>\n",
       "      <th id=\"T_4068b_level0_col0\" class=\"col_heading level0 col0\" >MAE</th>\n",
       "      <th id=\"T_4068b_level0_col1\" class=\"col_heading level0 col1\" >MSE</th>\n",
       "      <th id=\"T_4068b_level0_col2\" class=\"col_heading level0 col2\" >RMSE</th>\n",
       "      <th id=\"T_4068b_level0_col3\" class=\"col_heading level0 col3\" >R2</th>\n",
       "      <th id=\"T_4068b_level0_col4\" class=\"col_heading level0 col4\" >RMSLE</th>\n",
       "      <th id=\"T_4068b_level0_col5\" class=\"col_heading level0 col5\" >MAPE</th>\n",
       "    </tr>\n",
       "    <tr>\n",
       "      <th class=\"index_name level0\" >Fold</th>\n",
       "      <th class=\"blank col0\" >&nbsp;</th>\n",
       "      <th class=\"blank col1\" >&nbsp;</th>\n",
       "      <th class=\"blank col2\" >&nbsp;</th>\n",
       "      <th class=\"blank col3\" >&nbsp;</th>\n",
       "      <th class=\"blank col4\" >&nbsp;</th>\n",
       "      <th class=\"blank col5\" >&nbsp;</th>\n",
       "    </tr>\n",
       "  </thead>\n",
       "  <tbody>\n",
       "    <tr>\n",
       "      <th id=\"T_4068b_level0_row0\" class=\"row_heading level0 row0\" >0</th>\n",
       "      <td id=\"T_4068b_row0_col0\" class=\"data row0 col0\" >0.0112</td>\n",
       "      <td id=\"T_4068b_row0_col1\" class=\"data row0 col1\" >0.0005</td>\n",
       "      <td id=\"T_4068b_row0_col2\" class=\"data row0 col2\" >0.0226</td>\n",
       "      <td id=\"T_4068b_row0_col3\" class=\"data row0 col3\" >1.0000</td>\n",
       "      <td id=\"T_4068b_row0_col4\" class=\"data row0 col4\" >0.0011</td>\n",
       "      <td id=\"T_4068b_row0_col5\" class=\"data row0 col5\" >0.0009</td>\n",
       "    </tr>\n",
       "    <tr>\n",
       "      <th id=\"T_4068b_level0_row1\" class=\"row_heading level0 row1\" >1</th>\n",
       "      <td id=\"T_4068b_row1_col0\" class=\"data row1 col0\" >0.0107</td>\n",
       "      <td id=\"T_4068b_row1_col1\" class=\"data row1 col1\" >0.0003</td>\n",
       "      <td id=\"T_4068b_row1_col2\" class=\"data row1 col2\" >0.0180</td>\n",
       "      <td id=\"T_4068b_row1_col3\" class=\"data row1 col3\" >1.0000</td>\n",
       "      <td id=\"T_4068b_row1_col4\" class=\"data row1 col4\" >0.0012</td>\n",
       "      <td id=\"T_4068b_row1_col5\" class=\"data row1 col5\" >0.0012</td>\n",
       "    </tr>\n",
       "    <tr>\n",
       "      <th id=\"T_4068b_level0_row2\" class=\"row_heading level0 row2\" >2</th>\n",
       "      <td id=\"T_4068b_row2_col0\" class=\"data row2 col0\" >0.0077</td>\n",
       "      <td id=\"T_4068b_row2_col1\" class=\"data row2 col1\" >0.0001</td>\n",
       "      <td id=\"T_4068b_row2_col2\" class=\"data row2 col2\" >0.0122</td>\n",
       "      <td id=\"T_4068b_row2_col3\" class=\"data row2 col3\" >1.0000</td>\n",
       "      <td id=\"T_4068b_row2_col4\" class=\"data row2 col4\" >0.0011</td>\n",
       "      <td id=\"T_4068b_row2_col5\" class=\"data row2 col5\" >0.0011</td>\n",
       "    </tr>\n",
       "    <tr>\n",
       "      <th id=\"T_4068b_level0_row3\" class=\"row_heading level0 row3\" >3</th>\n",
       "      <td id=\"T_4068b_row3_col0\" class=\"data row3 col0\" >0.0159</td>\n",
       "      <td id=\"T_4068b_row3_col1\" class=\"data row3 col1\" >0.0016</td>\n",
       "      <td id=\"T_4068b_row3_col2\" class=\"data row3 col2\" >0.0400</td>\n",
       "      <td id=\"T_4068b_row3_col3\" class=\"data row3 col3\" >1.0000</td>\n",
       "      <td id=\"T_4068b_row3_col4\" class=\"data row3 col4\" >0.0012</td>\n",
       "      <td id=\"T_4068b_row3_col5\" class=\"data row3 col5\" >0.0012</td>\n",
       "    </tr>\n",
       "    <tr>\n",
       "      <th id=\"T_4068b_level0_row4\" class=\"row_heading level0 row4\" >4</th>\n",
       "      <td id=\"T_4068b_row4_col0\" class=\"data row4 col0\" >0.0081</td>\n",
       "      <td id=\"T_4068b_row4_col1\" class=\"data row4 col1\" >0.0002</td>\n",
       "      <td id=\"T_4068b_row4_col2\" class=\"data row4 col2\" >0.0132</td>\n",
       "      <td id=\"T_4068b_row4_col3\" class=\"data row4 col3\" >1.0000</td>\n",
       "      <td id=\"T_4068b_row4_col4\" class=\"data row4 col4\" >0.0012</td>\n",
       "      <td id=\"T_4068b_row4_col5\" class=\"data row4 col5\" >0.0011</td>\n",
       "    </tr>\n",
       "    <tr>\n",
       "      <th id=\"T_4068b_level0_row5\" class=\"row_heading level0 row5\" >5</th>\n",
       "      <td id=\"T_4068b_row5_col0\" class=\"data row5 col0\" >0.0091</td>\n",
       "      <td id=\"T_4068b_row5_col1\" class=\"data row5 col1\" >0.0003</td>\n",
       "      <td id=\"T_4068b_row5_col2\" class=\"data row5 col2\" >0.0173</td>\n",
       "      <td id=\"T_4068b_row5_col3\" class=\"data row5 col3\" >1.0000</td>\n",
       "      <td id=\"T_4068b_row5_col4\" class=\"data row5 col4\" >0.0024</td>\n",
       "      <td id=\"T_4068b_row5_col5\" class=\"data row5 col5\" >0.0014</td>\n",
       "    </tr>\n",
       "    <tr>\n",
       "      <th id=\"T_4068b_level0_row6\" class=\"row_heading level0 row6\" >6</th>\n",
       "      <td id=\"T_4068b_row6_col0\" class=\"data row6 col0\" >0.0092</td>\n",
       "      <td id=\"T_4068b_row6_col1\" class=\"data row6 col1\" >0.0003</td>\n",
       "      <td id=\"T_4068b_row6_col2\" class=\"data row6 col2\" >0.0175</td>\n",
       "      <td id=\"T_4068b_row6_col3\" class=\"data row6 col3\" >1.0000</td>\n",
       "      <td id=\"T_4068b_row6_col4\" class=\"data row6 col4\" >0.0023</td>\n",
       "      <td id=\"T_4068b_row6_col5\" class=\"data row6 col5\" >0.0034</td>\n",
       "    </tr>\n",
       "    <tr>\n",
       "      <th id=\"T_4068b_level0_row7\" class=\"row_heading level0 row7\" >7</th>\n",
       "      <td id=\"T_4068b_row7_col0\" class=\"data row7 col0\" >0.0098</td>\n",
       "      <td id=\"T_4068b_row7_col1\" class=\"data row7 col1\" >0.0004</td>\n",
       "      <td id=\"T_4068b_row7_col2\" class=\"data row7 col2\" >0.0189</td>\n",
       "      <td id=\"T_4068b_row7_col3\" class=\"data row7 col3\" >1.0000</td>\n",
       "      <td id=\"T_4068b_row7_col4\" class=\"data row7 col4\" >0.0013</td>\n",
       "      <td id=\"T_4068b_row7_col5\" class=\"data row7 col5\" >0.0011</td>\n",
       "    </tr>\n",
       "    <tr>\n",
       "      <th id=\"T_4068b_level0_row8\" class=\"row_heading level0 row8\" >8</th>\n",
       "      <td id=\"T_4068b_row8_col0\" class=\"data row8 col0\" >0.0095</td>\n",
       "      <td id=\"T_4068b_row8_col1\" class=\"data row8 col1\" >0.0003</td>\n",
       "      <td id=\"T_4068b_row8_col2\" class=\"data row8 col2\" >0.0184</td>\n",
       "      <td id=\"T_4068b_row8_col3\" class=\"data row8 col3\" >1.0000</td>\n",
       "      <td id=\"T_4068b_row8_col4\" class=\"data row8 col4\" >0.0011</td>\n",
       "      <td id=\"T_4068b_row8_col5\" class=\"data row8 col5\" >0.0011</td>\n",
       "    </tr>\n",
       "    <tr>\n",
       "      <th id=\"T_4068b_level0_row9\" class=\"row_heading level0 row9\" >9</th>\n",
       "      <td id=\"T_4068b_row9_col0\" class=\"data row9 col0\" >0.0108</td>\n",
       "      <td id=\"T_4068b_row9_col1\" class=\"data row9 col1\" >0.0006</td>\n",
       "      <td id=\"T_4068b_row9_col2\" class=\"data row9 col2\" >0.0235</td>\n",
       "      <td id=\"T_4068b_row9_col3\" class=\"data row9 col3\" >1.0000</td>\n",
       "      <td id=\"T_4068b_row9_col4\" class=\"data row9 col4\" >0.0011</td>\n",
       "      <td id=\"T_4068b_row9_col5\" class=\"data row9 col5\" >0.0010</td>\n",
       "    </tr>\n",
       "    <tr>\n",
       "      <th id=\"T_4068b_level0_row10\" class=\"row_heading level0 row10\" >Mean</th>\n",
       "      <td id=\"T_4068b_row10_col0\" class=\"data row10 col0\" >0.0102</td>\n",
       "      <td id=\"T_4068b_row10_col1\" class=\"data row10 col1\" >0.0005</td>\n",
       "      <td id=\"T_4068b_row10_col2\" class=\"data row10 col2\" >0.0202</td>\n",
       "      <td id=\"T_4068b_row10_col3\" class=\"data row10 col3\" >1.0000</td>\n",
       "      <td id=\"T_4068b_row10_col4\" class=\"data row10 col4\" >0.0014</td>\n",
       "      <td id=\"T_4068b_row10_col5\" class=\"data row10 col5\" >0.0014</td>\n",
       "    </tr>\n",
       "    <tr>\n",
       "      <th id=\"T_4068b_level0_row11\" class=\"row_heading level0 row11\" >Std</th>\n",
       "      <td id=\"T_4068b_row11_col0\" class=\"data row11 col0\" >0.0022</td>\n",
       "      <td id=\"T_4068b_row11_col1\" class=\"data row11 col1\" >0.0004</td>\n",
       "      <td id=\"T_4068b_row11_col2\" class=\"data row11 col2\" >0.0074</td>\n",
       "      <td id=\"T_4068b_row11_col3\" class=\"data row11 col3\" >0.0000</td>\n",
       "      <td id=\"T_4068b_row11_col4\" class=\"data row11 col4\" >0.0005</td>\n",
       "      <td id=\"T_4068b_row11_col5\" class=\"data row11 col5\" >0.0007</td>\n",
       "    </tr>\n",
       "  </tbody>\n",
       "</table>\n"
      ],
      "text/plain": [
       "<pandas.io.formats.style.Styler at 0x280598a30>"
      ]
     },
     "metadata": {},
     "output_type": "display_data"
    },
    {
     "data": {
      "text/html": [],
      "text/plain": [
       "<IPython.core.display.HTML object>"
      ]
     },
     "metadata": {},
     "output_type": "display_data"
    },
    {
     "name": "stdout",
     "output_type": "stream",
     "text": [
      "Fitting 10 folds for each of 10 candidates, totalling 100 fits\n",
      "Original model was better than the tuned model, hence it will be returned. NOTE: The display metrics are for the tuned model (not the original one).\n"
     ]
    }
   ],
   "source": [
    "# tune hyperparameters of lasso\n",
    "tuned_lasso = tune_model(lasso)"
   ]
  },
  {
   "cell_type": "code",
   "execution_count": 114,
   "metadata": {},
   "outputs": [
    {
     "data": {
      "text/html": [],
      "text/plain": [
       "<IPython.core.display.HTML object>"
      ]
     },
     "metadata": {},
     "output_type": "display_data"
    },
    {
     "data": {
      "text/html": [
       "<style type=\"text/css\">\n",
       "#T_35a59_row10_col0, #T_35a59_row10_col1, #T_35a59_row10_col2, #T_35a59_row10_col3, #T_35a59_row10_col4, #T_35a59_row10_col5 {\n",
       "  background: yellow;\n",
       "}\n",
       "</style>\n",
       "<table id=\"T_35a59\">\n",
       "  <thead>\n",
       "    <tr>\n",
       "      <th class=\"blank level0\" >&nbsp;</th>\n",
       "      <th id=\"T_35a59_level0_col0\" class=\"col_heading level0 col0\" >MAE</th>\n",
       "      <th id=\"T_35a59_level0_col1\" class=\"col_heading level0 col1\" >MSE</th>\n",
       "      <th id=\"T_35a59_level0_col2\" class=\"col_heading level0 col2\" >RMSE</th>\n",
       "      <th id=\"T_35a59_level0_col3\" class=\"col_heading level0 col3\" >R2</th>\n",
       "      <th id=\"T_35a59_level0_col4\" class=\"col_heading level0 col4\" >RMSLE</th>\n",
       "      <th id=\"T_35a59_level0_col5\" class=\"col_heading level0 col5\" >MAPE</th>\n",
       "    </tr>\n",
       "    <tr>\n",
       "      <th class=\"index_name level0\" >Fold</th>\n",
       "      <th class=\"blank col0\" >&nbsp;</th>\n",
       "      <th class=\"blank col1\" >&nbsp;</th>\n",
       "      <th class=\"blank col2\" >&nbsp;</th>\n",
       "      <th class=\"blank col3\" >&nbsp;</th>\n",
       "      <th class=\"blank col4\" >&nbsp;</th>\n",
       "      <th class=\"blank col5\" >&nbsp;</th>\n",
       "    </tr>\n",
       "  </thead>\n",
       "  <tbody>\n",
       "    <tr>\n",
       "      <th id=\"T_35a59_level0_row0\" class=\"row_heading level0 row0\" >0</th>\n",
       "      <td id=\"T_35a59_row0_col0\" class=\"data row0 col0\" >0.0112</td>\n",
       "      <td id=\"T_35a59_row0_col1\" class=\"data row0 col1\" >0.0005</td>\n",
       "      <td id=\"T_35a59_row0_col2\" class=\"data row0 col2\" >0.0226</td>\n",
       "      <td id=\"T_35a59_row0_col3\" class=\"data row0 col3\" >1.0000</td>\n",
       "      <td id=\"T_35a59_row0_col4\" class=\"data row0 col4\" >0.0011</td>\n",
       "      <td id=\"T_35a59_row0_col5\" class=\"data row0 col5\" >0.0009</td>\n",
       "    </tr>\n",
       "    <tr>\n",
       "      <th id=\"T_35a59_level0_row1\" class=\"row_heading level0 row1\" >1</th>\n",
       "      <td id=\"T_35a59_row1_col0\" class=\"data row1 col0\" >0.0107</td>\n",
       "      <td id=\"T_35a59_row1_col1\" class=\"data row1 col1\" >0.0003</td>\n",
       "      <td id=\"T_35a59_row1_col2\" class=\"data row1 col2\" >0.0180</td>\n",
       "      <td id=\"T_35a59_row1_col3\" class=\"data row1 col3\" >1.0000</td>\n",
       "      <td id=\"T_35a59_row1_col4\" class=\"data row1 col4\" >0.0012</td>\n",
       "      <td id=\"T_35a59_row1_col5\" class=\"data row1 col5\" >0.0012</td>\n",
       "    </tr>\n",
       "    <tr>\n",
       "      <th id=\"T_35a59_level0_row2\" class=\"row_heading level0 row2\" >2</th>\n",
       "      <td id=\"T_35a59_row2_col0\" class=\"data row2 col0\" >0.0077</td>\n",
       "      <td id=\"T_35a59_row2_col1\" class=\"data row2 col1\" >0.0001</td>\n",
       "      <td id=\"T_35a59_row2_col2\" class=\"data row2 col2\" >0.0122</td>\n",
       "      <td id=\"T_35a59_row2_col3\" class=\"data row2 col3\" >1.0000</td>\n",
       "      <td id=\"T_35a59_row2_col4\" class=\"data row2 col4\" >0.0011</td>\n",
       "      <td id=\"T_35a59_row2_col5\" class=\"data row2 col5\" >0.0011</td>\n",
       "    </tr>\n",
       "    <tr>\n",
       "      <th id=\"T_35a59_level0_row3\" class=\"row_heading level0 row3\" >3</th>\n",
       "      <td id=\"T_35a59_row3_col0\" class=\"data row3 col0\" >0.0159</td>\n",
       "      <td id=\"T_35a59_row3_col1\" class=\"data row3 col1\" >0.0016</td>\n",
       "      <td id=\"T_35a59_row3_col2\" class=\"data row3 col2\" >0.0400</td>\n",
       "      <td id=\"T_35a59_row3_col3\" class=\"data row3 col3\" >1.0000</td>\n",
       "      <td id=\"T_35a59_row3_col4\" class=\"data row3 col4\" >0.0012</td>\n",
       "      <td id=\"T_35a59_row3_col5\" class=\"data row3 col5\" >0.0012</td>\n",
       "    </tr>\n",
       "    <tr>\n",
       "      <th id=\"T_35a59_level0_row4\" class=\"row_heading level0 row4\" >4</th>\n",
       "      <td id=\"T_35a59_row4_col0\" class=\"data row4 col0\" >0.0081</td>\n",
       "      <td id=\"T_35a59_row4_col1\" class=\"data row4 col1\" >0.0002</td>\n",
       "      <td id=\"T_35a59_row4_col2\" class=\"data row4 col2\" >0.0132</td>\n",
       "      <td id=\"T_35a59_row4_col3\" class=\"data row4 col3\" >1.0000</td>\n",
       "      <td id=\"T_35a59_row4_col4\" class=\"data row4 col4\" >0.0012</td>\n",
       "      <td id=\"T_35a59_row4_col5\" class=\"data row4 col5\" >0.0011</td>\n",
       "    </tr>\n",
       "    <tr>\n",
       "      <th id=\"T_35a59_level0_row5\" class=\"row_heading level0 row5\" >5</th>\n",
       "      <td id=\"T_35a59_row5_col0\" class=\"data row5 col0\" >0.0091</td>\n",
       "      <td id=\"T_35a59_row5_col1\" class=\"data row5 col1\" >0.0003</td>\n",
       "      <td id=\"T_35a59_row5_col2\" class=\"data row5 col2\" >0.0173</td>\n",
       "      <td id=\"T_35a59_row5_col3\" class=\"data row5 col3\" >1.0000</td>\n",
       "      <td id=\"T_35a59_row5_col4\" class=\"data row5 col4\" >0.0024</td>\n",
       "      <td id=\"T_35a59_row5_col5\" class=\"data row5 col5\" >0.0014</td>\n",
       "    </tr>\n",
       "    <tr>\n",
       "      <th id=\"T_35a59_level0_row6\" class=\"row_heading level0 row6\" >6</th>\n",
       "      <td id=\"T_35a59_row6_col0\" class=\"data row6 col0\" >0.0092</td>\n",
       "      <td id=\"T_35a59_row6_col1\" class=\"data row6 col1\" >0.0003</td>\n",
       "      <td id=\"T_35a59_row6_col2\" class=\"data row6 col2\" >0.0175</td>\n",
       "      <td id=\"T_35a59_row6_col3\" class=\"data row6 col3\" >1.0000</td>\n",
       "      <td id=\"T_35a59_row6_col4\" class=\"data row6 col4\" >0.0023</td>\n",
       "      <td id=\"T_35a59_row6_col5\" class=\"data row6 col5\" >0.0034</td>\n",
       "    </tr>\n",
       "    <tr>\n",
       "      <th id=\"T_35a59_level0_row7\" class=\"row_heading level0 row7\" >7</th>\n",
       "      <td id=\"T_35a59_row7_col0\" class=\"data row7 col0\" >0.0098</td>\n",
       "      <td id=\"T_35a59_row7_col1\" class=\"data row7 col1\" >0.0004</td>\n",
       "      <td id=\"T_35a59_row7_col2\" class=\"data row7 col2\" >0.0189</td>\n",
       "      <td id=\"T_35a59_row7_col3\" class=\"data row7 col3\" >1.0000</td>\n",
       "      <td id=\"T_35a59_row7_col4\" class=\"data row7 col4\" >0.0013</td>\n",
       "      <td id=\"T_35a59_row7_col5\" class=\"data row7 col5\" >0.0011</td>\n",
       "    </tr>\n",
       "    <tr>\n",
       "      <th id=\"T_35a59_level0_row8\" class=\"row_heading level0 row8\" >8</th>\n",
       "      <td id=\"T_35a59_row8_col0\" class=\"data row8 col0\" >0.0095</td>\n",
       "      <td id=\"T_35a59_row8_col1\" class=\"data row8 col1\" >0.0003</td>\n",
       "      <td id=\"T_35a59_row8_col2\" class=\"data row8 col2\" >0.0184</td>\n",
       "      <td id=\"T_35a59_row8_col3\" class=\"data row8 col3\" >1.0000</td>\n",
       "      <td id=\"T_35a59_row8_col4\" class=\"data row8 col4\" >0.0011</td>\n",
       "      <td id=\"T_35a59_row8_col5\" class=\"data row8 col5\" >0.0011</td>\n",
       "    </tr>\n",
       "    <tr>\n",
       "      <th id=\"T_35a59_level0_row9\" class=\"row_heading level0 row9\" >9</th>\n",
       "      <td id=\"T_35a59_row9_col0\" class=\"data row9 col0\" >0.0108</td>\n",
       "      <td id=\"T_35a59_row9_col1\" class=\"data row9 col1\" >0.0006</td>\n",
       "      <td id=\"T_35a59_row9_col2\" class=\"data row9 col2\" >0.0235</td>\n",
       "      <td id=\"T_35a59_row9_col3\" class=\"data row9 col3\" >1.0000</td>\n",
       "      <td id=\"T_35a59_row9_col4\" class=\"data row9 col4\" >0.0011</td>\n",
       "      <td id=\"T_35a59_row9_col5\" class=\"data row9 col5\" >0.0010</td>\n",
       "    </tr>\n",
       "    <tr>\n",
       "      <th id=\"T_35a59_level0_row10\" class=\"row_heading level0 row10\" >Mean</th>\n",
       "      <td id=\"T_35a59_row10_col0\" class=\"data row10 col0\" >0.0102</td>\n",
       "      <td id=\"T_35a59_row10_col1\" class=\"data row10 col1\" >0.0005</td>\n",
       "      <td id=\"T_35a59_row10_col2\" class=\"data row10 col2\" >0.0202</td>\n",
       "      <td id=\"T_35a59_row10_col3\" class=\"data row10 col3\" >1.0000</td>\n",
       "      <td id=\"T_35a59_row10_col4\" class=\"data row10 col4\" >0.0014</td>\n",
       "      <td id=\"T_35a59_row10_col5\" class=\"data row10 col5\" >0.0014</td>\n",
       "    </tr>\n",
       "    <tr>\n",
       "      <th id=\"T_35a59_level0_row11\" class=\"row_heading level0 row11\" >Std</th>\n",
       "      <td id=\"T_35a59_row11_col0\" class=\"data row11 col0\" >0.0022</td>\n",
       "      <td id=\"T_35a59_row11_col1\" class=\"data row11 col1\" >0.0004</td>\n",
       "      <td id=\"T_35a59_row11_col2\" class=\"data row11 col2\" >0.0074</td>\n",
       "      <td id=\"T_35a59_row11_col3\" class=\"data row11 col3\" >0.0000</td>\n",
       "      <td id=\"T_35a59_row11_col4\" class=\"data row11 col4\" >0.0005</td>\n",
       "      <td id=\"T_35a59_row11_col5\" class=\"data row11 col5\" >0.0007</td>\n",
       "    </tr>\n",
       "  </tbody>\n",
       "</table>\n"
      ],
      "text/plain": [
       "<pandas.io.formats.style.Styler at 0x281fd08b0>"
      ]
     },
     "metadata": {},
     "output_type": "display_data"
    },
    {
     "data": {
      "text/html": [],
      "text/plain": [
       "<IPython.core.display.HTML object>"
      ]
     },
     "metadata": {},
     "output_type": "display_data"
    },
    {
     "name": "stdout",
     "output_type": "stream",
     "text": [
      "Fitting 10 folds for each of 10 candidates, totalling 100 fits\n",
      "Original model was better than the tuned model, hence it will be returned. NOTE: The display metrics are for the tuned model (not the original one).\n"
     ]
    }
   ],
   "source": [
    "\n",
    "# to access the tuner object you can set return_tuner = True\n",
    "tuned_lasso, tuner = tune_model(lasso, return_tuner=True)"
   ]
  },
  {
   "cell_type": "code",
   "execution_count": 115,
   "metadata": {},
   "outputs": [
    {
     "data": {
      "text/html": [
       "<style>#sk-container-id-4 {color: black;background-color: white;}#sk-container-id-4 pre{padding: 0;}#sk-container-id-4 div.sk-toggleable {background-color: white;}#sk-container-id-4 label.sk-toggleable__label {cursor: pointer;display: block;width: 100%;margin-bottom: 0;padding: 0.3em;box-sizing: border-box;text-align: center;}#sk-container-id-4 label.sk-toggleable__label-arrow:before {content: \"▸\";float: left;margin-right: 0.25em;color: #696969;}#sk-container-id-4 label.sk-toggleable__label-arrow:hover:before {color: black;}#sk-container-id-4 div.sk-estimator:hover label.sk-toggleable__label-arrow:before {color: black;}#sk-container-id-4 div.sk-toggleable__content {max-height: 0;max-width: 0;overflow: hidden;text-align: left;background-color: #f0f8ff;}#sk-container-id-4 div.sk-toggleable__content pre {margin: 0.2em;color: black;border-radius: 0.25em;background-color: #f0f8ff;}#sk-container-id-4 input.sk-toggleable__control:checked~div.sk-toggleable__content {max-height: 200px;max-width: 100%;overflow: auto;}#sk-container-id-4 input.sk-toggleable__control:checked~label.sk-toggleable__label-arrow:before {content: \"▾\";}#sk-container-id-4 div.sk-estimator input.sk-toggleable__control:checked~label.sk-toggleable__label {background-color: #d4ebff;}#sk-container-id-4 div.sk-label input.sk-toggleable__control:checked~label.sk-toggleable__label {background-color: #d4ebff;}#sk-container-id-4 input.sk-hidden--visually {border: 0;clip: rect(1px 1px 1px 1px);clip: rect(1px, 1px, 1px, 1px);height: 1px;margin: -1px;overflow: hidden;padding: 0;position: absolute;width: 1px;}#sk-container-id-4 div.sk-estimator {font-family: monospace;background-color: #f0f8ff;border: 1px dotted black;border-radius: 0.25em;box-sizing: border-box;margin-bottom: 0.5em;}#sk-container-id-4 div.sk-estimator:hover {background-color: #d4ebff;}#sk-container-id-4 div.sk-parallel-item::after {content: \"\";width: 100%;border-bottom: 1px solid gray;flex-grow: 1;}#sk-container-id-4 div.sk-label:hover label.sk-toggleable__label {background-color: #d4ebff;}#sk-container-id-4 div.sk-serial::before {content: \"\";position: absolute;border-left: 1px solid gray;box-sizing: border-box;top: 0;bottom: 0;left: 50%;z-index: 0;}#sk-container-id-4 div.sk-serial {display: flex;flex-direction: column;align-items: center;background-color: white;padding-right: 0.2em;padding-left: 0.2em;position: relative;}#sk-container-id-4 div.sk-item {position: relative;z-index: 1;}#sk-container-id-4 div.sk-parallel {display: flex;align-items: stretch;justify-content: center;background-color: white;position: relative;}#sk-container-id-4 div.sk-item::before, #sk-container-id-4 div.sk-parallel-item::before {content: \"\";position: absolute;border-left: 1px solid gray;box-sizing: border-box;top: 0;bottom: 0;left: 50%;z-index: -1;}#sk-container-id-4 div.sk-parallel-item {display: flex;flex-direction: column;z-index: 1;position: relative;background-color: white;}#sk-container-id-4 div.sk-parallel-item:first-child::after {align-self: flex-end;width: 50%;}#sk-container-id-4 div.sk-parallel-item:last-child::after {align-self: flex-start;width: 50%;}#sk-container-id-4 div.sk-parallel-item:only-child::after {width: 0;}#sk-container-id-4 div.sk-dashed-wrapped {border: 1px dashed gray;margin: 0 0.4em 0.5em 0.4em;box-sizing: border-box;padding-bottom: 0.4em;background-color: white;}#sk-container-id-4 div.sk-label label {font-family: monospace;font-weight: bold;display: inline-block;line-height: 1.2em;}#sk-container-id-4 div.sk-label-container {text-align: center;}#sk-container-id-4 div.sk-container {/* jupyter's `normalize.less` sets `[hidden] { display: none; }` but bootstrap.min.css set `[hidden] { display: none !important; }` so we also need the `!important` here to be able to override the default hidden behavior on the sphinx rendered scikit-learn.org. See: https://github.com/scikit-learn/scikit-learn/issues/21755 */display: inline-block !important;position: relative;}#sk-container-id-4 div.sk-text-repr-fallback {display: none;}</style><div id=\"sk-container-id-4\" class=\"sk-top-container\"><div class=\"sk-text-repr-fallback\"><pre>Lasso(random_state=123)</pre><b>In a Jupyter environment, please rerun this cell to show the HTML representation or trust the notebook. <br />On GitHub, the HTML representation is unable to render, please try loading this page with nbviewer.org.</b></div><div class=\"sk-container\" hidden><div class=\"sk-item\"><div class=\"sk-estimator sk-toggleable\"><input class=\"sk-toggleable__control sk-hidden--visually\" id=\"sk-estimator-id-4\" type=\"checkbox\" checked><label for=\"sk-estimator-id-4\" class=\"sk-toggleable__label sk-toggleable__label-arrow\">Lasso</label><div class=\"sk-toggleable__content\"><pre>Lasso(random_state=123)</pre></div></div></div></div></div>"
      ],
      "text/plain": [
       "Lasso(random_state=123)"
      ]
     },
     "execution_count": 115,
     "metadata": {},
     "output_type": "execute_result"
    }
   ],
   "source": [
    "# model object\n",
    "tuned_lasso"
   ]
  },
  {
   "cell_type": "markdown",
   "metadata": {},
   "source": [
    "# Testing"
   ]
  },
  {
   "cell_type": "code",
   "execution_count": 116,
   "metadata": {},
   "outputs": [],
   "source": [
    "def preprocess(df):\n",
    "    \n",
    "    df = df.copy()\n",
    "    \n",
    "    # Drop unused columns\n",
    "    df = df.drop(['Global Rank', 'Company','Continent','Latitude','Longitude',], axis=1)\n",
    "    \n",
    "    # One-hot encode Categorical feature columns\n",
    "    le = LabelEncoder()\n",
    "    df['Country'] = le.fit_transform(df['Country'])\n",
    "    \n",
    "    # Split df into X and y\n",
    "    y = df['Market Value ($billion)']\n",
    "    X = df.drop('Market Value ($billion)', axis=1)\n",
    "    \n",
    "    # Train-test split\n",
    "    X_train, X_test, y_train, y_test = train_test_split(X, y, train_size=0.7, shuffle=True, random_state=1)\n",
    "\n",
    "    return X_train, X_test, y_train, y_test\n",
    "\n",
    "X_train, X_test, y_train, y_test = preprocess(df)\n",
    "\n"
   ]
  },
  {
   "cell_type": "code",
   "execution_count": 117,
   "metadata": {},
   "outputs": [],
   "source": [
    "model_lasso = Lasso(random_state=123)\n",
    "model_lasso.fit(X_train,y_train)\n",
    "pred_lasso = model.predict(X_test)"
   ]
  },
  {
   "cell_type": "code",
   "execution_count": 118,
   "metadata": {},
   "outputs": [
    {
     "data": {
      "text/html": [
       "<div>\n",
       "<style scoped>\n",
       "    .dataframe tbody tr th:only-of-type {\n",
       "        vertical-align: middle;\n",
       "    }\n",
       "\n",
       "    .dataframe tbody tr th {\n",
       "        vertical-align: top;\n",
       "    }\n",
       "\n",
       "    .dataframe thead th {\n",
       "        text-align: right;\n",
       "    }\n",
       "</style>\n",
       "<table border=\"1\" class=\"dataframe\">\n",
       "  <thead>\n",
       "    <tr style=\"text-align: right;\">\n",
       "      <th></th>\n",
       "      <th>y_test</th>\n",
       "      <th>lasso_pred</th>\n",
       "    </tr>\n",
       "  </thead>\n",
       "  <tbody>\n",
       "    <tr>\n",
       "      <th>48</th>\n",
       "      <td>87.2</td>\n",
       "      <td>83.351886</td>\n",
       "    </tr>\n",
       "    <tr>\n",
       "      <th>1279</th>\n",
       "      <td>11.5</td>\n",
       "      <td>12.567776</td>\n",
       "    </tr>\n",
       "    <tr>\n",
       "      <th>1159</th>\n",
       "      <td>4.7</td>\n",
       "      <td>5.101018</td>\n",
       "    </tr>\n",
       "    <tr>\n",
       "      <th>1089</th>\n",
       "      <td>10.2</td>\n",
       "      <td>15.537020</td>\n",
       "    </tr>\n",
       "    <tr>\n",
       "      <th>309</th>\n",
       "      <td>10.2</td>\n",
       "      <td>23.124774</td>\n",
       "    </tr>\n",
       "    <tr>\n",
       "      <th>...</th>\n",
       "      <td>...</td>\n",
       "      <td>...</td>\n",
       "    </tr>\n",
       "    <tr>\n",
       "      <th>654</th>\n",
       "      <td>13.6</td>\n",
       "      <td>16.387662</td>\n",
       "    </tr>\n",
       "    <tr>\n",
       "      <th>1318</th>\n",
       "      <td>0.9</td>\n",
       "      <td>11.984960</td>\n",
       "    </tr>\n",
       "    <tr>\n",
       "      <th>142</th>\n",
       "      <td>58.0</td>\n",
       "      <td>103.590638</td>\n",
       "    </tr>\n",
       "    <tr>\n",
       "      <th>1693</th>\n",
       "      <td>1.0</td>\n",
       "      <td>9.112356</td>\n",
       "    </tr>\n",
       "    <tr>\n",
       "      <th>812</th>\n",
       "      <td>14.8</td>\n",
       "      <td>14.951890</td>\n",
       "    </tr>\n",
       "  </tbody>\n",
       "</table>\n",
       "<p>578 rows × 2 columns</p>\n",
       "</div>"
      ],
      "text/plain": [
       "      y_test  lasso_pred\n",
       "48      87.2   83.351886\n",
       "1279    11.5   12.567776\n",
       "1159     4.7    5.101018\n",
       "1089    10.2   15.537020\n",
       "309     10.2   23.124774\n",
       "...      ...         ...\n",
       "654     13.6   16.387662\n",
       "1318     0.9   11.984960\n",
       "142     58.0  103.590638\n",
       "1693     1.0    9.112356\n",
       "812     14.8   14.951890\n",
       "\n",
       "[578 rows x 2 columns]"
      ]
     },
     "execution_count": 118,
     "metadata": {},
     "output_type": "execute_result"
    }
   ],
   "source": [
    "model_compare_lasso = pd.DataFrame({'y_test': y_test, 'lasso_pred': pred_lasso})\n",
    "model_compare_lasso"
   ]
  },
  {
   "cell_type": "markdown",
   "metadata": {},
   "source": [
    "Lasso model does not have high accuracy. Therefore, i will test score against other models using manual techniques."
   ]
  },
  {
   "cell_type": "code",
   "execution_count": 119,
   "metadata": {},
   "outputs": [
    {
     "name": "stdout",
     "output_type": "stream",
     "text": [
      "                     Linear Regression trained.\n",
      " Linear Regression (L2 Regularization) trained.\n",
      " Linear Regression (L1 Regularization) trained.\n",
      "                Least Angle Regression trained.\n",
      "                   K-Nearest Neighbors trained.\n",
      "                        Neural Network trained.\n",
      "                         Decision Tree trained.\n",
      "                         Random Forest trained.\n",
      "                     Gradient Boosting trained.\n"
     ]
    }
   ],
   "source": [
    "models = {\n",
    "    \"                     Linear Regression\": LinearRegression(),\n",
    "    \" Linear Regression (L2 Regularization)\": Ridge(),\n",
    "    \" Linear Regression (L1 Regularization)\": Lasso(),\n",
    "    \"                Least Angle Regression\": Lars(n_nonzero_coefs=1),   \n",
    "    \"                   K-Nearest Neighbors\": KNeighborsRegressor(),\n",
    "    \"                        Neural Network\": MLPRegressor(),\n",
    "    \"                         Decision Tree\": DecisionTreeRegressor(),\n",
    "    \"                         Random Forest\": RandomForestRegressor(),\n",
    "    \"                     Gradient Boosting\": GradientBoostingRegressor()\n",
    "}\n",
    "\n",
    "for name, model in models.items():\n",
    "    model.fit(X_train, y_train)\n",
    "    print(name + \" trained.\")"
   ]
  },
  {
   "cell_type": "code",
   "execution_count": 120,
   "metadata": {},
   "outputs": [
    {
     "name": "stdout",
     "output_type": "stream",
     "text": [
      "                     Linear Regression R^2: 0.6349\n",
      " Linear Regression (L2 Regularization) R^2: 0.6349\n",
      " Linear Regression (L1 Regularization) R^2: 0.6363\n",
      "                Least Angle Regression R^2: 0.1643\n",
      "                   K-Nearest Neighbors R^2: 0.5064\n",
      "                        Neural Network R^2: 0.6632\n",
      "                         Decision Tree R^2: 0.4910\n",
      "                         Random Forest R^2: 0.6235\n",
      "                     Gradient Boosting R^2: 0.6824\n"
     ]
    }
   ],
   "source": [
    "for name, model in models.items():\n",
    "    r2 = model.score(X_test, y_test)\n",
    "    print(name + \" R^2: {:.4f}\".format(r2))"
   ]
  },
  {
   "cell_type": "markdown",
   "metadata": {},
   "source": [
    "Choosing Gradient Bossting Regressor as the model for testing, because it has the best score."
   ]
  },
  {
   "cell_type": "code",
   "execution_count": 121,
   "metadata": {},
   "outputs": [
    {
     "name": "stdout",
     "output_type": "stream",
     "text": [
      "                     Linear Regression RMSE: 20.12\n",
      " Linear Regression (L2 Regularization) RMSE: 20.12\n",
      " Linear Regression (L1 Regularization) RMSE: 20.08\n",
      "                Least Angle Regression RMSE: 30.44\n",
      "                   K-Nearest Neighbors RMSE: 23.40\n",
      "                        Neural Network RMSE: 19.33\n",
      "                         Decision Tree RMSE: 23.76\n",
      "                         Random Forest RMSE: 20.43\n",
      "                     Gradient Boosting RMSE: 18.77\n"
     ]
    }
   ],
   "source": [
    "for name, model in models.items():\n",
    "    y_pred = model.predict(X_test)\n",
    "    rmse = np.sqrt(np.mean((y_test - y_pred)**2))\n",
    "    print(name + \" RMSE: {:.2f}\".format(rmse))"
   ]
  },
  {
   "cell_type": "markdown",
   "metadata": {},
   "source": [
    "Gradient Boosting regressor has the best score."
   ]
  },
  {
   "cell_type": "code",
   "execution_count": 122,
   "metadata": {},
   "outputs": [],
   "source": [
    "model_gb = GradientBoostingRegressor()\n",
    "model_gb.fit(X_train,y_train)\n",
    "pred_gb = model_gb.predict(X_test)"
   ]
  },
  {
   "cell_type": "markdown",
   "metadata": {},
   "source": [
    "Comparing against target data."
   ]
  },
  {
   "cell_type": "code",
   "execution_count": 123,
   "metadata": {},
   "outputs": [
    {
     "data": {
      "text/html": [
       "<div>\n",
       "<style scoped>\n",
       "    .dataframe tbody tr th:only-of-type {\n",
       "        vertical-align: middle;\n",
       "    }\n",
       "\n",
       "    .dataframe tbody tr th {\n",
       "        vertical-align: top;\n",
       "    }\n",
       "\n",
       "    .dataframe thead th {\n",
       "        text-align: right;\n",
       "    }\n",
       "</style>\n",
       "<table border=\"1\" class=\"dataframe\">\n",
       "  <thead>\n",
       "    <tr style=\"text-align: right;\">\n",
       "      <th></th>\n",
       "      <th>y_test</th>\n",
       "      <th>gb_pred</th>\n",
       "    </tr>\n",
       "  </thead>\n",
       "  <tbody>\n",
       "    <tr>\n",
       "      <th>48</th>\n",
       "      <td>87.2</td>\n",
       "      <td>83.351886</td>\n",
       "    </tr>\n",
       "    <tr>\n",
       "      <th>1279</th>\n",
       "      <td>11.5</td>\n",
       "      <td>12.567776</td>\n",
       "    </tr>\n",
       "    <tr>\n",
       "      <th>1159</th>\n",
       "      <td>4.7</td>\n",
       "      <td>5.101018</td>\n",
       "    </tr>\n",
       "    <tr>\n",
       "      <th>1089</th>\n",
       "      <td>10.2</td>\n",
       "      <td>15.537020</td>\n",
       "    </tr>\n",
       "    <tr>\n",
       "      <th>309</th>\n",
       "      <td>10.2</td>\n",
       "      <td>23.124774</td>\n",
       "    </tr>\n",
       "    <tr>\n",
       "      <th>...</th>\n",
       "      <td>...</td>\n",
       "      <td>...</td>\n",
       "    </tr>\n",
       "    <tr>\n",
       "      <th>654</th>\n",
       "      <td>13.6</td>\n",
       "      <td>16.387662</td>\n",
       "    </tr>\n",
       "    <tr>\n",
       "      <th>1318</th>\n",
       "      <td>0.9</td>\n",
       "      <td>11.984960</td>\n",
       "    </tr>\n",
       "    <tr>\n",
       "      <th>142</th>\n",
       "      <td>58.0</td>\n",
       "      <td>103.590638</td>\n",
       "    </tr>\n",
       "    <tr>\n",
       "      <th>1693</th>\n",
       "      <td>1.0</td>\n",
       "      <td>9.112356</td>\n",
       "    </tr>\n",
       "    <tr>\n",
       "      <th>812</th>\n",
       "      <td>14.8</td>\n",
       "      <td>14.951890</td>\n",
       "    </tr>\n",
       "  </tbody>\n",
       "</table>\n",
       "<p>578 rows × 2 columns</p>\n",
       "</div>"
      ],
      "text/plain": [
       "      y_test     gb_pred\n",
       "48      87.2   83.351886\n",
       "1279    11.5   12.567776\n",
       "1159     4.7    5.101018\n",
       "1089    10.2   15.537020\n",
       "309     10.2   23.124774\n",
       "...      ...         ...\n",
       "654     13.6   16.387662\n",
       "1318     0.9   11.984960\n",
       "142     58.0  103.590638\n",
       "1693     1.0    9.112356\n",
       "812     14.8   14.951890\n",
       "\n",
       "[578 rows x 2 columns]"
      ]
     },
     "execution_count": 123,
     "metadata": {},
     "output_type": "execute_result"
    }
   ],
   "source": [
    "model_compare_gb = pd.DataFrame({'y_test': y_test, 'gb_pred': pred_gb})\n",
    "model_compare_gb"
   ]
  },
  {
   "cell_type": "markdown",
   "metadata": {},
   "source": [
    "It seems with all the testing and model scores that the Gradient Boosting Regressor is the best model."
   ]
  },
  {
   "cell_type": "markdown",
   "metadata": {},
   "source": [
    "# Cross Validation for Hyperparameter Tuning of the best model"
   ]
  },
  {
   "cell_type": "code",
   "execution_count": 124,
   "metadata": {},
   "outputs": [],
   "source": [
    "cv_model = model_gb"
   ]
  },
  {
   "cell_type": "code",
   "execution_count": 125,
   "metadata": {},
   "outputs": [
    {
     "data": {
      "text/html": [
       "<div>\n",
       "<style scoped>\n",
       "    .dataframe tbody tr th:only-of-type {\n",
       "        vertical-align: middle;\n",
       "    }\n",
       "\n",
       "    .dataframe tbody tr th {\n",
       "        vertical-align: top;\n",
       "    }\n",
       "\n",
       "    .dataframe thead th {\n",
       "        text-align: right;\n",
       "    }\n",
       "</style>\n",
       "<table border=\"1\" class=\"dataframe\">\n",
       "  <thead>\n",
       "    <tr style=\"text-align: right;\">\n",
       "      <th></th>\n",
       "      <th>cv</th>\n",
       "      <th>mean_cross_val_score</th>\n",
       "    </tr>\n",
       "  </thead>\n",
       "  <tbody>\n",
       "    <tr>\n",
       "      <th>2</th>\n",
       "      <td>4</td>\n",
       "      <td>0.809063</td>\n",
       "    </tr>\n",
       "    <tr>\n",
       "      <th>1</th>\n",
       "      <td>3</td>\n",
       "      <td>0.799649</td>\n",
       "    </tr>\n",
       "    <tr>\n",
       "      <th>7</th>\n",
       "      <td>9</td>\n",
       "      <td>0.798494</td>\n",
       "    </tr>\n",
       "    <tr>\n",
       "      <th>5</th>\n",
       "      <td>7</td>\n",
       "      <td>0.795293</td>\n",
       "    </tr>\n",
       "    <tr>\n",
       "      <th>3</th>\n",
       "      <td>5</td>\n",
       "      <td>0.793259</td>\n",
       "    </tr>\n",
       "    <tr>\n",
       "      <th>4</th>\n",
       "      <td>6</td>\n",
       "      <td>0.790074</td>\n",
       "    </tr>\n",
       "    <tr>\n",
       "      <th>8</th>\n",
       "      <td>10</td>\n",
       "      <td>0.786592</td>\n",
       "    </tr>\n",
       "    <tr>\n",
       "      <th>6</th>\n",
       "      <td>8</td>\n",
       "      <td>0.763657</td>\n",
       "    </tr>\n",
       "    <tr>\n",
       "      <th>0</th>\n",
       "      <td>2</td>\n",
       "      <td>0.761445</td>\n",
       "    </tr>\n",
       "  </tbody>\n",
       "</table>\n",
       "</div>"
      ],
      "text/plain": [
       "   cv  mean_cross_val_score\n",
       "2   4              0.809063\n",
       "1   3              0.799649\n",
       "7   9              0.798494\n",
       "5   7              0.795293\n",
       "3   5              0.793259\n",
       "4   6              0.790074\n",
       "8  10              0.786592\n",
       "6   8              0.763657\n",
       "0   2              0.761445"
      ]
     },
     "execution_count": 125,
     "metadata": {},
     "output_type": "execute_result"
    }
   ],
   "source": [
    "cv_comparison = pd.DataFrame({'cv': [2,3,4,5,6,7,8,9,10],'mean_cross_val_score': [np.mean(cross_val_score(cv_model, X_train, y_train, cv=2))\n",
    "                                                                                 ,np.mean(cross_val_score(cv_model, X_train, y_train, cv=3))\n",
    "                                                                                 ,np.mean(cross_val_score(cv_model, X_train, y_train, cv=4))\n",
    "                                                                                 ,np.mean(cross_val_score(cv_model, X_train, y_train, cv=5))\n",
    "                                                                                 ,np.mean(cross_val_score(cv_model, X_train, y_train, cv=6))\n",
    "                                                                                 ,np.mean(cross_val_score(cv_model, X_train, y_train, cv=7))\n",
    "                                                                                 ,np.mean(cross_val_score(cv_model, X_train, y_train, cv=8))\n",
    "                                                                                 ,np.mean(cross_val_score(cv_model, X_train, y_train, cv=9))\n",
    "                                                                                 ,np.mean(cross_val_score(cv_model, X_train, y_train, cv=10))]})\n",
    "cv_comparison.sort_values(by = ['mean_cross_val_score'],ascending =False)"
   ]
  },
  {
   "cell_type": "code",
   "execution_count": 126,
   "metadata": {},
   "outputs": [
    {
     "data": {
      "image/png": "[encoded data removed]",
      "text/plain": [
       "<Figure size 800x550 with 1 Axes>"
      ]
     },
     "metadata": {},
     "output_type": "display_data"
    }
   ],
   "source": [
    "sns.lineplot(x=cv_comparison['cv'],y=cv_comparison['mean_cross_val_score'])\n",
    "plt.show()"
   ]
  },
  {
   "cell_type": "code",
   "execution_count": 127,
   "metadata": {},
   "outputs": [
    {
     "name": "stdout",
     "output_type": "stream",
     "text": [
      "The max mean cross validation is 0.8090630824253966found at cv =4.\n"
     ]
    }
   ],
   "source": [
    "print('The max mean cross validation is ' + str(cv_comparison.sort_values(by = ['mean_cross_val_score'],ascending =False).iloc[0,1]) + 'found at cv ='+str(cv_comparison.sort_values(by = ['mean_cross_val_score'],ascending =False).iloc[0,0]) + '.')"
   ]
  },
  {
   "cell_type": "markdown",
   "metadata": {},
   "source": [
    "# Hyperparameter tuning (code has been commented out to save time)"
   ]
  },
  {
   "cell_type": "code",
   "execution_count": 130,
   "metadata": {},
   "outputs": [
    {
     "data": {
      "text/plain": [
       "{'learning_rate': 0.01,\n",
       " 'max_depth': 4,\n",
       " 'n_estimators': 1000,\n",
       " 'random_state': 1,\n",
       " 'subsample': 1}"
      ]
     },
     "execution_count": 130,
     "metadata": {},
     "output_type": "execute_result"
    }
   ],
   "source": [
    "\n",
    "param_grid = {'n_estimators':[500,1000,2000],'learning_rate':[.001,0.01,.1],'max_depth':[1,2,4],'subsample':[.5,.75,1],'random_state':[1]}\n",
    "\n",
    "CV_model = GridSearchCV(estimator=cv_model, param_grid=param_grid, cv= cv_comparison.sort_values(by = ['mean_cross_val_score'],ascending =False).iloc[0,0])\n",
    "CV_model.fit(X_train, y_train)\n",
    "     \n",
    "CV_model.best_params_"
   ]
  },
  {
   "cell_type": "markdown",
   "metadata": {},
   "source": [
    "The best model with best parameters is GradientBoostingRegressor(learning_rate= 0.01,\n",
    " max_depth= 4,\n",
    " n_estimators= 1000,\n",
    " random_state= 1,\n",
    " subsample= 1)"
   ]
  },
  {
   "cell_type": "code",
   "execution_count": 134,
   "metadata": {},
   "outputs": [],
   "source": [
    "from sklearn.metrics import r2_score"
   ]
  },
  {
   "cell_type": "code",
   "execution_count": 135,
   "metadata": {},
   "outputs": [
    {
     "data": {
      "text/plain": [
       "0.6464124205193256"
      ]
     },
     "execution_count": 135,
     "metadata": {},
     "output_type": "execute_result"
    }
   ],
   "source": [
    "final_model = GradientBoostingRegressor(learning_rate= 0.01,\n",
    " max_depth= 4,\n",
    " n_estimators= 1000,\n",
    " random_state= 1,\n",
    " subsample= 1)\n",
    "final_model.fit(X_train,y_train)\n",
    "final_model.score(X_test, y_test)\n"
   ]
  },
  {
   "cell_type": "markdown",
   "metadata": {},
   "source": [
    "Continuing with the default model as it has the better score."
   ]
  }
 ],
 "metadata": {
  "kernelspec": {
   "display_name": "cvp_venv",
   "language": "python",
   "name": "python3"
  },
  "language_info": {
   "codemirror_mode": {
    "name": "ipython",
    "version": 3
   },
   "file_extension": ".py",
   "mimetype": "text/x-python",
   "name": "python",
   "nbconvert_exporter": "python",
   "pygments_lexer": "ipython3",
   "version": "3.10.0"
  },
  "orig_nbformat": 4
 },
 "nbformat": 4,
 "nbformat_minor": 2
}
